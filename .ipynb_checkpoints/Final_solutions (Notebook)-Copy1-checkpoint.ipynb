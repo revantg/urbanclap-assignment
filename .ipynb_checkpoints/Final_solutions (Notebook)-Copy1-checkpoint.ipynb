{
 "cells": [
  {
   "cell_type": "markdown",
   "metadata": {},
   "source": [
    "# UrbanClap Assignment\n",
    "#### This is the solution to the Assignment 1 for the Business Analytics intern position in UrbanClap, Gurgaon\n",
    "\n",
    "### Importing the libraries"
   ]
  },
  {
   "cell_type": "code",
   "execution_count": 1,
   "metadata": {
    "scrolled": true
   },
   "outputs": [],
   "source": [
    "import numpy as np                                    # For performing operations on numpy arrays\n",
    "import pandas as pd                                   # For storing and manipulating the dataset\n",
    "import pickle                                         # For storing the intermediate results\n",
    "import random                                         # For generating random distributions\n",
    "import time, datetime, calendar                       # For working with timestamps \n",
    "\n",
    "import matplotlib.pyplot as plt                       # For plotting the graphs\n",
    "import seaborn as sns                                 # For generating visualisation\n",
    "import plotly                                         # For interactive Graphing\n",
    "plotly.tools.set_credentials_file(\n",
    "    username='revantg', \n",
    "    api_key='Oox6fKEY5TPFHc5DSjNF'                    # API Key has been mentioned deliberately for using Plotly\n",
    ")\n",
    "\n",
    "from imblearn.over_sampling import SMOTE              # For sampling the unbalanced dataset for classification\n",
    "from sklearn.preprocessing import LabelEncoder        # For encoding labels to numbers\n",
    "from sklearn.preprocessing import OneHotEncoder       # For one-hot encoding categorical variables\n",
    "from sklearn.model_selection import train_test_split  # For Splitting into TrainSet and TestSet\n",
    "from sklearn.model_selection import RepeatedKFold     # For KFold Cross Validation\n",
    "from sklearn.model_selection import TimeSeriesSplit   # For CrossValidation of Time-Series Datasets\n",
    "from sklearn.model_selection import GridSearchCV, RandomizedSearchCV\n",
    "from sklearn.linear_model import LogisticRegression   # For Logistic Regression\n",
    "from sklearn.metrics import accuracy_score            # For calculating accuracy"
   ]
  },
  {
   "cell_type": "code",
   "execution_count": 2,
   "metadata": {},
   "outputs": [],
   "source": [
    "from warnings import simplefilter                     # For ignoring Warnings\n",
    "simplefilter(action='ignore')\n",
    "\n",
    "pd.set_option('display.max_columns', 500)"
   ]
  },
  {
   "cell_type": "markdown",
   "metadata": {},
   "source": [
    "### Importing the dataset\n",
    "\n",
    "*This dataset belongs to a company providing home services via online discovery platform.*<br>\n",
    "The dataset contains records of 30,940 transactions of 16,711 customers.\n",
    "\n",
    "- Each row corresponds to one transaction (transaction/order/request will be used interchangeably) placed by a customer tracked by ``Transaction_ID`` unique to the order placed\n",
    "\n",
    "#### Fields\n",
    "\n",
    "- **``Profile ID``**              : The unique identity value of each customer. For example, transactions with IDs ``BBCHH``, ``CHWFD`` are placed by the same customer identified through ``Profile ID`` ``1``.\n",
    "\n",
    "- **``Date Of Booking``**         : Date on which customer placed the order.\n",
    "\n",
    "- **``Date of Service Request``** : Date on which the customer needs the service delivered at his/her house\n",
    "\n",
    "- **``Slot Of Booking``**         : Hour of the service requested date when the customer wants the servie to be served\n",
    "\n",
    "- **``Source``**                  : The channel  of Customer (eg: Customer came to the app/web via Google, Facebook etc)"
   ]
  },
  {
   "cell_type": "code",
   "execution_count": 3,
   "metadata": {},
   "outputs": [],
   "source": [
    "df_orig = pd.read_excel(\"UrbanClap_Marketing_Analytics_Internship_Test1-5ca307ff7cffa-1326738.xlsx\", \n",
    "                   sheet_name = \"Data for Question 1\",\n",
    "                   parse_dates = ['Date_of_Booking', 'Date_of_Service_Requested']\n",
    "                )\n",
    "\n",
    "df = df_orig.copy()"
   ]
  },
  {
   "cell_type": "code",
   "execution_count": 4,
   "metadata": {},
   "outputs": [
    {
     "data": {
      "text/html": [
       "<div>\n",
       "<style scoped>\n",
       "    .dataframe tbody tr th:only-of-type {\n",
       "        vertical-align: middle;\n",
       "    }\n",
       "\n",
       "    .dataframe tbody tr th {\n",
       "        vertical-align: top;\n",
       "    }\n",
       "\n",
       "    .dataframe thead th {\n",
       "        text-align: right;\n",
       "    }\n",
       "</style>\n",
       "<table border=\"1\" class=\"dataframe\">\n",
       "  <thead>\n",
       "    <tr style=\"text-align: right;\">\n",
       "      <th></th>\n",
       "      <th>Transaction_ID</th>\n",
       "      <th>Profile ID</th>\n",
       "      <th>Date_of_Booking</th>\n",
       "      <th>Date_of_Service_Requested</th>\n",
       "      <th>Source</th>\n",
       "      <th>Slot of Booking (Hour of the Day)</th>\n",
       "    </tr>\n",
       "  </thead>\n",
       "  <tbody>\n",
       "    <tr>\n",
       "      <th>0</th>\n",
       "      <td>BBCHH</td>\n",
       "      <td>1</td>\n",
       "      <td>2018-05-20</td>\n",
       "      <td>2018-05-21</td>\n",
       "      <td>D</td>\n",
       "      <td>14</td>\n",
       "    </tr>\n",
       "    <tr>\n",
       "      <th>1</th>\n",
       "      <td>CHWFD</td>\n",
       "      <td>1</td>\n",
       "      <td>2018-09-23</td>\n",
       "      <td>2018-09-23</td>\n",
       "      <td>C</td>\n",
       "      <td>8</td>\n",
       "    </tr>\n",
       "    <tr>\n",
       "      <th>2</th>\n",
       "      <td>DYDMF</td>\n",
       "      <td>2</td>\n",
       "      <td>2018-11-10</td>\n",
       "      <td>2018-11-13</td>\n",
       "      <td>C</td>\n",
       "      <td>11</td>\n",
       "    </tr>\n",
       "    <tr>\n",
       "      <th>3</th>\n",
       "      <td>EZYSA</td>\n",
       "      <td>3</td>\n",
       "      <td>2018-04-12</td>\n",
       "      <td>2018-04-16</td>\n",
       "      <td>B</td>\n",
       "      <td>8</td>\n",
       "    </tr>\n",
       "    <tr>\n",
       "      <th>4</th>\n",
       "      <td>HWAKX</td>\n",
       "      <td>3</td>\n",
       "      <td>2018-08-05</td>\n",
       "      <td>2018-08-06</td>\n",
       "      <td>B</td>\n",
       "      <td>11</td>\n",
       "    </tr>\n",
       "  </tbody>\n",
       "</table>\n",
       "</div>"
      ],
      "text/plain": [
       "  Transaction_ID  Profile ID Date_of_Booking Date_of_Service_Requested Source  \\\n",
       "0          BBCHH           1      2018-05-20                2018-05-21      D   \n",
       "1          CHWFD           1      2018-09-23                2018-09-23      C   \n",
       "2          DYDMF           2      2018-11-10                2018-11-13      C   \n",
       "3          EZYSA           3      2018-04-12                2018-04-16      B   \n",
       "4          HWAKX           3      2018-08-05                2018-08-06      B   \n",
       "\n",
       "   Slot of Booking (Hour of the Day)  \n",
       "0                                 14  \n",
       "1                                  8  \n",
       "2                                 11  \n",
       "3                                  8  \n",
       "4                                 11  "
      ]
     },
     "execution_count": 4,
     "metadata": {},
     "output_type": "execute_result"
    }
   ],
   "source": [
    "df.head()"
   ]
  },
  {
   "cell_type": "markdown",
   "metadata": {},
   "source": [
    "### The following queries have been solved in ``Python3``<br>\n",
    "\n",
    "1. **<pre>Plot new users acquired every month on a bar chart (New user in a month = a customer who has placed a request for the first time ever)</pre>**\n",
    "\n",
    "2. **<pre>30-Day repeat rate is defined as percentage of new users who have placed a 2nd order within 30 days of placing their first order.\n",
    "What is the 30-day repeat rate of users acquired in December 2017?</pre>**\n",
    "\n",
    "3. **<pre>What is the 90-day repeat rate of users acquired in Jan,Feb,March 2018?</pre>**\n",
    "\n",
    "4. **<pre>Use logistic regression to predict the 90-day repeat of users acquired in November 2018.\n",
    "</pre>**\n",
    "\n",
    "5. **<pre>Plot the distribution of users by frequency of their 90-day repeat (Number of times user repeated within first 90 days)</pre>**"
   ]
  },
  {
   "cell_type": "markdown",
   "metadata": {},
   "source": [
    "### Solution 1 : Users acquired every month on a bar chart\n",
    "\n",
    "**1. Finding the first `Date_of_Booking` for every user**\n",
    "```python3\n",
    "    grouped_df = df[['Profile ID', 'Date_of_Booking']].groupby([df['Profile ID']]).min()\n",
    "```"
   ]
  },
  {
   "cell_type": "code",
   "execution_count": 5,
   "metadata": {},
   "outputs": [],
   "source": [
    "grouped_df = df[['Profile ID', 'Date_of_Booking']].groupby([df['Profile ID']]).min()[['Date_of_Booking']]\n",
    "grouped_df.rename(columns = {'Date_of_Booking' : 'First_Day_of_Booking'}, inplace = True)"
   ]
  },
  {
   "cell_type": "markdown",
   "metadata": {},
   "source": [
    "**2. Finding the number of new users with respect to every month and year**\n",
    "```python3\n",
    "    grouped_df.groupby([grouped_df['First_Day_of_Booking'].dt.year, grouped_df['First_Day_of_Booking'].dt.month_name()]).count()\n",
    "```"
   ]
  },
  {
   "cell_type": "code",
   "execution_count": 6,
   "metadata": {},
   "outputs": [
    {
     "data": {
      "text/html": [
       "<div>\n",
       "<style scoped>\n",
       "    .dataframe tbody tr th:only-of-type {\n",
       "        vertical-align: middle;\n",
       "    }\n",
       "\n",
       "    .dataframe tbody tr th {\n",
       "        vertical-align: top;\n",
       "    }\n",
       "\n",
       "    .dataframe thead th {\n",
       "        text-align: right;\n",
       "    }\n",
       "</style>\n",
       "<table border=\"1\" class=\"dataframe\">\n",
       "  <thead>\n",
       "    <tr style=\"text-align: right;\">\n",
       "      <th></th>\n",
       "      <th></th>\n",
       "      <th>New Users</th>\n",
       "    </tr>\n",
       "    <tr>\n",
       "      <th>Year Of Booking</th>\n",
       "      <th>Month Of Booking</th>\n",
       "      <th></th>\n",
       "    </tr>\n",
       "  </thead>\n",
       "  <tbody>\n",
       "    <tr>\n",
       "      <th>2017</th>\n",
       "      <th>12</th>\n",
       "      <td>2424</td>\n",
       "    </tr>\n",
       "    <tr>\n",
       "      <th rowspan=\"11\" valign=\"top\">2018</th>\n",
       "      <th>1</th>\n",
       "      <td>1892</td>\n",
       "    </tr>\n",
       "    <tr>\n",
       "      <th>2</th>\n",
       "      <td>1549</td>\n",
       "    </tr>\n",
       "    <tr>\n",
       "      <th>3</th>\n",
       "      <td>1490</td>\n",
       "    </tr>\n",
       "    <tr>\n",
       "      <th>4</th>\n",
       "      <td>1346</td>\n",
       "    </tr>\n",
       "    <tr>\n",
       "      <th>5</th>\n",
       "      <td>1264</td>\n",
       "    </tr>\n",
       "    <tr>\n",
       "      <th>6</th>\n",
       "      <td>1273</td>\n",
       "    </tr>\n",
       "    <tr>\n",
       "      <th>7</th>\n",
       "      <td>1208</td>\n",
       "    </tr>\n",
       "    <tr>\n",
       "      <th>8</th>\n",
       "      <td>1120</td>\n",
       "    </tr>\n",
       "    <tr>\n",
       "      <th>9</th>\n",
       "      <td>1020</td>\n",
       "    </tr>\n",
       "    <tr>\n",
       "      <th>10</th>\n",
       "      <td>1110</td>\n",
       "    </tr>\n",
       "    <tr>\n",
       "      <th>11</th>\n",
       "      <td>1015</td>\n",
       "    </tr>\n",
       "  </tbody>\n",
       "</table>\n",
       "</div>"
      ],
      "text/plain": [
       "                                  New Users\n",
       "Year Of Booking Month Of Booking           \n",
       "2017            12                     2424\n",
       "2018            1                      1892\n",
       "                2                      1549\n",
       "                3                      1490\n",
       "                4                      1346\n",
       "                5                      1264\n",
       "                6                      1273\n",
       "                7                      1208\n",
       "                8                      1120\n",
       "                9                      1020\n",
       "                10                     1110\n",
       "                11                     1015"
      ]
     },
     "execution_count": 6,
     "metadata": {},
     "output_type": "execute_result"
    }
   ],
   "source": [
    "num_of_new_users = grouped_df.groupby(\n",
    "                                        [\n",
    "                                            grouped_df['First_Day_of_Booking'].dt.year, \n",
    "                                            grouped_df['First_Day_of_Booking'].dt.month\n",
    "                                        ]\n",
    "                                     ).count()\n",
    "num_of_new_users.index.names = ['Year Of Booking', 'Month Of Booking']\n",
    "num_of_new_users.rename(columns = {'First_Day_of_Booking' : \"New Users\"}, inplace = True)\n",
    "\n",
    "num_of_new_users.sort_index(by = ['Year Of Booking', 'Month Of Booking'], inplace = True)\n",
    "\n",
    "num_of_new_users"
   ]
  },
  {
   "cell_type": "markdown",
   "metadata": {},
   "source": [
    "**3. Plotting / Visualising the data for ``num_of_new_users`` (Number of new users) w.r.t. month and year**\n"
   ]
  },
  {
   "cell_type": "code",
   "execution_count": 7,
   "metadata": {},
   "outputs": [
    {
     "data": {
      "image/png": "[encoded data removed]",
      "text/plain": [
       "<Figure size 720x432 with 1 Axes>"
      ]
     },
     "metadata": {
      "needs_background": "light"
     },
     "output_type": "display_data"
    }
   ],
   "source": [
    "num_of_new_users.reset_index(inplace = True)\n",
    "num_of_new_users['Formatted_month'] = num_of_new_users['Year Of Booking'].astype(str) + ' ' + \\\n",
    "                                      num_of_new_users['Month Of Booking'].apply(\n",
    "                                          lambda x : time.strftime(\"%B\", time.strptime(str(x), '%m'))\n",
    "                                      )\n",
    "    \n",
    "axes = plt.figure(figsize = (10, 6))\n",
    "ax = sns.barplot(\n",
    "    x = 'Formatted_month', \n",
    "    y = 'New Users', \n",
    "    data = num_of_new_users\n",
    ")\n",
    "ax.set_xticklabels(labels = num_of_new_users['Formatted_month'], rotation=90)\n",
    "ax.set_title('Number Of Users acquired every month')\n",
    "\n",
    "plt.show()"
   ]
  },
  {
   "cell_type": "code",
   "execution_count": 8,
   "metadata": {
    "scrolled": false
   },
   "outputs": [
    {
     "data": {
      "text/html": [
       "<iframe id=\"igraph\" scrolling=\"no\" style=\"border:none;\" seamless=\"seamless\" src=\"https://plot.ly/~revantg/2.embed\" height=\"525px\" width=\"100%\"></iframe>"
      ],
      "text/plain": [
       "<chart_studio.tools.PlotlyDisplay object>"
      ]
     },
     "execution_count": 8,
     "metadata": {},
     "output_type": "execute_result"
    }
   ],
   "source": [
    "trace0 = plotly.graph_objs.Bar(\n",
    "    x=num_of_new_users['Formatted_month'], \n",
    "    y=num_of_new_users['New Users'],\n",
    "    text = (num_of_new_users['New Users'] / num_of_new_users['New Users'].sum() * 100).round(2).astype(str).values + \"% of new-users were acquired this month\", \n",
    "    marker=dict(\n",
    "        color='rgb(158,202,225)',\n",
    "        line=dict(\n",
    "            color='rgb(8,48,107)',\n",
    "            width=1.5,\n",
    "        )\n",
    "    ),\n",
    "    opacity=0.6\n",
    ")\n",
    "\n",
    "data = [trace0]\n",
    "layout = plotly.graph_objs.Layout(\n",
    "    title='New Users Acquired every Month',\n",
    ")\n",
    "\n",
    "fig = plotly.graph_objs.Figure(data=data, layout=layout)\n",
    "plotly.plotly.iplot(fig, filename='New Users Acquired every Month')"
   ]
  },
  {
   "cell_type": "code",
   "execution_count": 9,
   "metadata": {},
   "outputs": [
    {
     "name": "stdout",
     "output_type": "stream",
     "text": [
      "-28.118 %age decrease from the previous month\n",
      "-22.143 %age decrease from the previous month\n",
      "-3.96 %age decrease from the previous month\n",
      "-10.698 %age decrease from the previous month\n",
      "-6.487 %age decrease from the previous month\n",
      "0.707 %age decrease from the previous month\n",
      "-5.381 %age decrease from the previous month\n",
      "-7.857 %age decrease from the previous month\n",
      "-9.804 %age decrease from the previous month\n",
      "8.108 %age decrease from the previous month\n",
      "-9.36 %age decrease from the previous month\n"
     ]
    }
   ],
   "source": [
    "# %age changes every month\n",
    "for i in (np.divide(num_of_new_users['New Users'].values[1:] - num_of_new_users['New Users'].values[:-1],num_of_new_users['New Users'].values[1:]) * 100):\n",
    "    print(np.round(i, 3), \"%age decrease from the previous month\")"
   ]
  },
  {
   "cell_type": "code",
   "execution_count": 10,
   "metadata": {},
   "outputs": [
    {
     "data": {
      "text/plain": [
       "<matplotlib.axes._subplots.AxesSubplot at 0x7f407c796fd0>"
      ]
     },
     "execution_count": 10,
     "metadata": {},
     "output_type": "execute_result"
    },
    {
     "data": {
      "image/png": "[encoded data removed]",
      "text/plain": [
       "<Figure size 576x360 with 1 Axes>"
      ]
     },
     "metadata": {
      "needs_background": "light"
     },
     "output_type": "display_data"
    }
   ],
   "source": [
    "ax = plt.figure(figsize = (8, 5))\n",
    "plt.title(\"Month Wise Sale Distubution\")\n",
    "plt.xlabel(\"Month\")\n",
    "plt.ylabel(\"Frequency\")\n",
    "df['Date_of_Booking'].dt.month.value_counts().sort_index().plot(kind = 'bar')"
   ]
  },
  {
   "cell_type": "markdown",
   "metadata": {},
   "source": [
    "> **Insights**\n",
    "- Number of new users in January 2018 dropped the most ie 28.118 %\n",
    "- Number of New Users in May had dropped almost about to 52.14% of sales in Deceember 2017<br>\n",
    "**However**, the total users engaging on the service remained roughly the same as seen in the above graph\n"
   ]
  },
  {
   "cell_type": "markdown",
   "metadata": {},
   "source": [
    "### **Solution 2 : What is the 30-day repeat rate of users acquired in December 2017?**\n",
    "\n",
    "All of the following statements have been written in a more explanatory manner. <br>\n",
    "The code can be compressed to be of 4-5 lines.<br>\n",
    "None of the code mentioned below makes use of an explicit ``for loop``, thereby maintaining the awesome runtime of ``numpy`` and ``pandas`` resulting in an extremely optimised code"
   ]
  },
  {
   "cell_type": "markdown",
   "metadata": {},
   "source": [
    "**1. Finding the first ``Date_of_Booking`` for each user**"
   ]
  },
  {
   "cell_type": "code",
   "execution_count": 11,
   "metadata": {},
   "outputs": [],
   "source": [
    "first_booking_data = df.groupby(['Profile ID'])['Date_of_Booking'].min().to_frame().reset_index()"
   ]
  },
  {
   "cell_type": "markdown",
   "metadata": {},
   "source": [
    "**2. Get user data of users who have their first ``Date_of_Booking``'s Month == 12 and ``Date_of_Booking``'s Year = 2017**"
   ]
  },
  {
   "cell_type": "code",
   "execution_count": 12,
   "metadata": {},
   "outputs": [
    {
     "data": {
      "text/html": [
       "<div>\n",
       "<style scoped>\n",
       "    .dataframe tbody tr th:only-of-type {\n",
       "        vertical-align: middle;\n",
       "    }\n",
       "\n",
       "    .dataframe tbody tr th {\n",
       "        vertical-align: top;\n",
       "    }\n",
       "\n",
       "    .dataframe thead th {\n",
       "        text-align: right;\n",
       "    }\n",
       "</style>\n",
       "<table border=\"1\" class=\"dataframe\">\n",
       "  <thead>\n",
       "    <tr style=\"text-align: right;\">\n",
       "      <th></th>\n",
       "      <th>Transaction_ID</th>\n",
       "      <th>Profile ID</th>\n",
       "      <th>Date_of_Booking</th>\n",
       "      <th>Date_of_Service_Requested</th>\n",
       "      <th>Source</th>\n",
       "      <th>Slot of Booking (Hour of the Day)</th>\n",
       "    </tr>\n",
       "  </thead>\n",
       "  <tbody>\n",
       "    <tr>\n",
       "      <th>8</th>\n",
       "      <td>BGNZX</td>\n",
       "      <td>7</td>\n",
       "      <td>2017-12-07</td>\n",
       "      <td>2017-12-12</td>\n",
       "      <td>D</td>\n",
       "      <td>16</td>\n",
       "    </tr>\n",
       "    <tr>\n",
       "      <th>25</th>\n",
       "      <td>IXAJB</td>\n",
       "      <td>18</td>\n",
       "      <td>2017-12-30</td>\n",
       "      <td>2018-01-03</td>\n",
       "      <td>C</td>\n",
       "      <td>14</td>\n",
       "    </tr>\n",
       "    <tr>\n",
       "      <th>26</th>\n",
       "      <td>UVFIY</td>\n",
       "      <td>18</td>\n",
       "      <td>2018-11-06</td>\n",
       "      <td>2018-11-07</td>\n",
       "      <td>C</td>\n",
       "      <td>13</td>\n",
       "    </tr>\n",
       "    <tr>\n",
       "      <th>35</th>\n",
       "      <td>RCZNH</td>\n",
       "      <td>25</td>\n",
       "      <td>2017-12-30</td>\n",
       "      <td>2018-01-03</td>\n",
       "      <td>A</td>\n",
       "      <td>16</td>\n",
       "    </tr>\n",
       "    <tr>\n",
       "      <th>36</th>\n",
       "      <td>IJJUZ</td>\n",
       "      <td>25</td>\n",
       "      <td>2018-05-14</td>\n",
       "      <td>2018-05-15</td>\n",
       "      <td>D</td>\n",
       "      <td>14</td>\n",
       "    </tr>\n",
       "  </tbody>\n",
       "</table>\n",
       "</div>"
      ],
      "text/plain": [
       "   Transaction_ID  Profile ID Date_of_Booking Date_of_Service_Requested  \\\n",
       "8           BGNZX           7      2017-12-07                2017-12-12   \n",
       "25          IXAJB          18      2017-12-30                2018-01-03   \n",
       "26          UVFIY          18      2018-11-06                2018-11-07   \n",
       "35          RCZNH          25      2017-12-30                2018-01-03   \n",
       "36          IJJUZ          25      2018-05-14                2018-05-15   \n",
       "\n",
       "   Source  Slot of Booking (Hour of the Day)  \n",
       "8       D                                 16  \n",
       "25      C                                 14  \n",
       "26      C                                 13  \n",
       "35      A                                 16  \n",
       "36      D                                 14  "
      ]
     },
     "execution_count": 12,
     "metadata": {},
     "output_type": "execute_result"
    }
   ],
   "source": [
    "dec_users_id = first_booking_data[(first_booking_data['Date_of_Booking'].dt.month == 12) & (first_booking_data['Date_of_Booking'].dt.year == 2017)]['Profile ID'].values\n",
    "dec_users_data = df.loc[df['Profile ID'].isin(dec_users_id)]\n",
    "dec_users_data.sort_values(['Profile ID', 'Date_of_Booking']).head()"
   ]
  },
  {
   "cell_type": "markdown",
   "metadata": {},
   "source": [
    "**3. Filtering the users who've booked more than 1 orders**"
   ]
  },
  {
   "cell_type": "code",
   "execution_count": 13,
   "metadata": {},
   "outputs": [],
   "source": [
    "freq_dec_users = dec_users_data.groupby(['Profile ID']).size()\n",
    "repeat_dec_users = list(freq_dec_users[freq_dec_users > 1].index)\n",
    "dec_users_data = df.loc[df['Profile ID'].isin(repeat_dec_users)]"
   ]
  },
  {
   "cell_type": "code",
   "execution_count": 14,
   "metadata": {},
   "outputs": [
    {
     "name": "stdout",
     "output_type": "stream",
     "text": [
      "30 Day Repeat Rate (for < 30 days)  : 16.625412541254125\n",
      "30 Day Repeat Rate (for <= 30 days) : 16.831683168316832\n"
     ]
    }
   ],
   "source": [
    "a = dec_users_data.groupby(['Profile ID'])['Date_of_Booking'].nsmallest(2).groupby(level = 'Profile ID')\n",
    "print(\"30 Day Repeat Rate (for < 30 days)  :\", ((a.last() - a.first()).dt.days < 30).sum() * 100 / len(dec_users_id))\n",
    "print(\"30 Day Repeat Rate (for <= 30 days) :\", ((a.last() - a.first()).dt.days <= 30).sum() * 100 / len(dec_users_id))"
   ]
  },
  {
   "cell_type": "markdown",
   "metadata": {},
   "source": [
    "### **Solution 3 : What is the 90-day repeat rate of users acquired in Jan, Feb, March 2018?**\n",
    "\n",
    "Reusing the above code with the following modifications\n",
    "- ``repeat_rate_mon = ['01', '02', '03']``\n",
    "- ``repeat_rate_year = 2018``\n",
    "- ``rep_rate_interval = 90``"
   ]
  },
  {
   "cell_type": "code",
   "execution_count": 15,
   "metadata": {},
   "outputs": [
    {
     "name": "stdout",
     "output_type": "stream",
     "text": [
      "30 Day Repeat Rate (for < 90 days)  : 20.54350030419793\n",
      "30 Day Repeat Rate (for <= 90 days) : 20.74629892516731\n"
     ]
    }
   ],
   "source": [
    "repeat_rate_mon, repeat_rate_year = ['01', '02', '03'], [2018]\n",
    "rep_rate_interval = 90\n",
    "\n",
    "first_booking_data = df.groupby(['Profile ID'])['Date_of_Booking'].min().to_frame().reset_index()\n",
    "\n",
    "dec_users_id = first_booking_data[(first_booking_data['Date_of_Booking'].dt.month.isin(repeat_rate_mon)) & (first_booking_data['Date_of_Booking'].dt.year.isin(repeat_rate_year))]['Profile ID'].values\n",
    "dec_users_data = df.loc[df['Profile ID'].isin(dec_users_id)]\n",
    "dec_users_data.sort_values(['Profile ID', 'Date_of_Booking']).head()\n",
    "\n",
    "freq_dec_users = dec_users_data.groupby(['Profile ID']).size()\n",
    "repeat_dec_users = list(freq_dec_users[freq_dec_users > 1].index)\n",
    "dec_users_data = df.loc[df['Profile ID'].isin(repeat_dec_users)]\n",
    "\n",
    "a = dec_users_data.groupby(['Profile ID'])['Date_of_Booking'].nsmallest(2).groupby(level = 'Profile ID')\n",
    "print(\"30 Day Repeat Rate (for < 90 days)  :\", ((a.last() - a.first()).dt.days < rep_rate_interval).sum() / len(dec_users_id) * 100)\n",
    "print(\"30 Day Repeat Rate (for <= 90 days) :\", ((a.last() - a.first()).dt.days <= rep_rate_interval).sum() / len(dec_users_id) * 100)"
   ]
  },
  {
   "cell_type": "markdown",
   "metadata": {},
   "source": [
    "### **Solution 4 : Predict the 90-day repeat of users acquired in November 2018 using Logistic Regression**"
   ]
  },
  {
   "cell_type": "markdown",
   "metadata": {},
   "source": [
    "**1.** Finding the indexes of rows containing the record of All Users's first booking.<br>\n",
    "**2.** Selecting the above acquired indexes to get their record of first purchase/use of service."
   ]
  },
  {
   "cell_type": "code",
   "execution_count": 110,
   "metadata": {},
   "outputs": [],
   "source": [
    "vals = df.groupby(['Profile ID'])['Date_of_Booking'].idxmin().values\n",
    "profile_booking_data = df.loc[vals]"
   ]
  },
  {
   "cell_type": "markdown",
   "metadata": {},
   "source": [
    "**3.** Finding the number of purchases of each user. <br>\n",
    "**4.** Filtering in the users whose number of purchases > 1. <br>\n",
    "**5.** Finding the ``first_date_of_booking`` for each of the above filtered users.<br>\n",
    "**6.** Finding the ``second_date_of_booking`` for each of the above filtered users.<br>\n",
    "**7.** Filtering the users whose difference between ``second_date_of_booking`` and ``second_date_of_booking``<br>\n",
    "- ``second_date_of_booking - first_date_of_booking < 90``"
   ]
  },
  {
   "cell_type": "code",
   "execution_count": 111,
   "metadata": {},
   "outputs": [],
   "source": [
    "grouped_df = df[['Profile ID', 'Date_of_Booking']].groupby(['Profile ID']).size().to_frame().rename(columns = {0 : 'No. of times shopped'})\n",
    "\n",
    "repeat_users = list(grouped_df[grouped_df['No. of times shopped'] > 1].index)\n",
    "repeat_users_data = df.loc[df['Profile ID'].isin(repeat_users), ['Profile ID', 'Date_of_Booking']]\n",
    "\n",
    "first_two_dates_of_booking_df =  repeat_users_data[['Profile ID', 'Date_of_Booking']].groupby(['Profile ID'])['Date_of_Booking'].nsmallest(2).groupby(level = 'Profile ID')\n",
    "first_date_of_booking = first_two_dates_of_booking_df.first()\n",
    "second_date_of_booking = first_two_dates_of_booking_df.last()\n",
    "\n",
    "repeat_rate = ((second_date_of_booking - first_date_of_booking).dt.days < rep_rate_interval)\n",
    "repeat_users = repeat_rate[repeat_rate].index.tolist()"
   ]
  },
  {
   "cell_type": "markdown",
   "metadata": {},
   "source": [
    "**8.** Displaying the data for each users<br>\n",
    "**9.** Adding the column ``repeat_within_90_days``\n",
    "- ``repeat_within_90_days`` is set to ``0`` if user did not place a second order within 90 days\n",
    "- ``repeat_within_90_days`` is set to ``1`` if user placed a second order within 90 days"
   ]
  },
  {
   "cell_type": "code",
   "execution_count": 112,
   "metadata": {},
   "outputs": [
    {
     "data": {
      "text/html": [
       "<div>\n",
       "<style scoped>\n",
       "    .dataframe tbody tr th:only-of-type {\n",
       "        vertical-align: middle;\n",
       "    }\n",
       "\n",
       "    .dataframe tbody tr th {\n",
       "        vertical-align: top;\n",
       "    }\n",
       "\n",
       "    .dataframe thead th {\n",
       "        text-align: right;\n",
       "    }\n",
       "</style>\n",
       "<table border=\"1\" class=\"dataframe\">\n",
       "  <thead>\n",
       "    <tr style=\"text-align: right;\">\n",
       "      <th></th>\n",
       "      <th>Transaction_ID</th>\n",
       "      <th>Date_of_Booking</th>\n",
       "      <th>Date_of_Service_Requested</th>\n",
       "      <th>Source</th>\n",
       "      <th>Slot of Booking (Hour of the Day)</th>\n",
       "      <th>repeat_within_90_days</th>\n",
       "    </tr>\n",
       "  </thead>\n",
       "  <tbody>\n",
       "    <tr>\n",
       "      <th>0</th>\n",
       "      <td>BBCHH</td>\n",
       "      <td>2018-05-20</td>\n",
       "      <td>2018-05-21</td>\n",
       "      <td>D</td>\n",
       "      <td>14</td>\n",
       "      <td>0</td>\n",
       "    </tr>\n",
       "    <tr>\n",
       "      <th>1</th>\n",
       "      <td>DYDMF</td>\n",
       "      <td>2018-11-10</td>\n",
       "      <td>2018-11-13</td>\n",
       "      <td>C</td>\n",
       "      <td>11</td>\n",
       "      <td>0</td>\n",
       "    </tr>\n",
       "    <tr>\n",
       "      <th>2</th>\n",
       "      <td>EZYSA</td>\n",
       "      <td>2018-04-12</td>\n",
       "      <td>2018-04-16</td>\n",
       "      <td>B</td>\n",
       "      <td>8</td>\n",
       "      <td>0</td>\n",
       "    </tr>\n",
       "    <tr>\n",
       "      <th>3</th>\n",
       "      <td>YRKFO</td>\n",
       "      <td>2018-03-02</td>\n",
       "      <td>2018-03-05</td>\n",
       "      <td>A</td>\n",
       "      <td>13</td>\n",
       "      <td>0</td>\n",
       "    </tr>\n",
       "    <tr>\n",
       "      <th>4</th>\n",
       "      <td>JSFWY</td>\n",
       "      <td>2018-01-06</td>\n",
       "      <td>2018-01-07</td>\n",
       "      <td>C</td>\n",
       "      <td>14</td>\n",
       "      <td>0</td>\n",
       "    </tr>\n",
       "  </tbody>\n",
       "</table>\n",
       "</div>"
      ],
      "text/plain": [
       "  Transaction_ID Date_of_Booking Date_of_Service_Requested Source  \\\n",
       "0          BBCHH      2018-05-20                2018-05-21      D   \n",
       "1          DYDMF      2018-11-10                2018-11-13      C   \n",
       "2          EZYSA      2018-04-12                2018-04-16      B   \n",
       "3          YRKFO      2018-03-02                2018-03-05      A   \n",
       "4          JSFWY      2018-01-06                2018-01-07      C   \n",
       "\n",
       "   Slot of Booking (Hour of the Day)  repeat_within_90_days  \n",
       "0                                 14                      0  \n",
       "1                                 11                      0  \n",
       "2                                  8                      0  \n",
       "3                                 13                      0  \n",
       "4                                 14                      0  "
      ]
     },
     "execution_count": 112,
     "metadata": {},
     "output_type": "execute_result"
    }
   ],
   "source": [
    "profile_booking_data.set_index('Profile ID', inplace = True)\n",
    "profile_booking_data['repeat_within_90_days'] = 0\n",
    "profile_booking_data.loc[repeat_users, 'repeat_within_90_days'] = 1\n",
    "\n",
    "train_df = profile_booking_data.copy()\n",
    "train_df = train_df.reset_index().drop(columns = ['Profile ID'])\n",
    "train_df.head()"
   ]
  },
  {
   "cell_type": "markdown",
   "metadata": {},
   "source": [
    "11. Calculating Gap <br>``Gap`` is difference between ``Date_of_Service_Requested`` and ``Date_of_Booking``"
   ]
  },
  {
   "cell_type": "code",
   "execution_count": 113,
   "metadata": {},
   "outputs": [
    {
     "data": {
      "text/html": [
       "<div>\n",
       "<style scoped>\n",
       "    .dataframe tbody tr th:only-of-type {\n",
       "        vertical-align: middle;\n",
       "    }\n",
       "\n",
       "    .dataframe tbody tr th {\n",
       "        vertical-align: top;\n",
       "    }\n",
       "\n",
       "    .dataframe thead th {\n",
       "        text-align: right;\n",
       "    }\n",
       "</style>\n",
       "<table border=\"1\" class=\"dataframe\">\n",
       "  <thead>\n",
       "    <tr style=\"text-align: right;\">\n",
       "      <th></th>\n",
       "      <th>Transaction_ID</th>\n",
       "      <th>Date_of_Booking</th>\n",
       "      <th>Date_of_Service_Requested</th>\n",
       "      <th>Source</th>\n",
       "      <th>Slot of Booking (Hour of the Day)</th>\n",
       "      <th>repeat_within_90_days</th>\n",
       "    </tr>\n",
       "  </thead>\n",
       "  <tbody>\n",
       "    <tr>\n",
       "      <th>2</th>\n",
       "      <td>DYDMF</td>\n",
       "      <td>2018-11-10</td>\n",
       "      <td>2018-11-13</td>\n",
       "      <td>C</td>\n",
       "      <td>11</td>\n",
       "      <td>2</td>\n",
       "    </tr>\n",
       "    <tr>\n",
       "      <th>29</th>\n",
       "      <td>QIYRA</td>\n",
       "      <td>2018-11-27</td>\n",
       "      <td>2018-11-27</td>\n",
       "      <td>B</td>\n",
       "      <td>8</td>\n",
       "      <td>2</td>\n",
       "    </tr>\n",
       "    <tr>\n",
       "      <th>124</th>\n",
       "      <td>KGYWP</td>\n",
       "      <td>2018-11-11</td>\n",
       "      <td>2018-11-12</td>\n",
       "      <td>C</td>\n",
       "      <td>14</td>\n",
       "      <td>2</td>\n",
       "    </tr>\n",
       "    <tr>\n",
       "      <th>158</th>\n",
       "      <td>QFPHG</td>\n",
       "      <td>2018-11-04</td>\n",
       "      <td>2018-11-06</td>\n",
       "      <td>D</td>\n",
       "      <td>6</td>\n",
       "      <td>2</td>\n",
       "    </tr>\n",
       "    <tr>\n",
       "      <th>173</th>\n",
       "      <td>UNMBP</td>\n",
       "      <td>2018-11-22</td>\n",
       "      <td>2018-11-23</td>\n",
       "      <td>D</td>\n",
       "      <td>10</td>\n",
       "      <td>2</td>\n",
       "    </tr>\n",
       "  </tbody>\n",
       "</table>\n",
       "</div>"
      ],
      "text/plain": [
       "    Transaction_ID Date_of_Booking Date_of_Service_Requested Source  \\\n",
       "2            DYDMF      2018-11-10                2018-11-13      C   \n",
       "29           QIYRA      2018-11-27                2018-11-27      B   \n",
       "124          KGYWP      2018-11-11                2018-11-12      C   \n",
       "158          QFPHG      2018-11-04                2018-11-06      D   \n",
       "173          UNMBP      2018-11-22                2018-11-23      D   \n",
       "\n",
       "     Slot of Booking (Hour of the Day)  repeat_within_90_days  \n",
       "2                                   11                      2  \n",
       "29                                   8                      2  \n",
       "124                                 14                      2  \n",
       "158                                  6                      2  \n",
       "173                                 10                      2  "
      ]
     },
     "execution_count": 113,
     "metadata": {},
     "output_type": "execute_result"
    }
   ],
   "source": [
    "num_of_orders = df[['Date_of_Booking', 'Profile ID']].groupby('Profile ID')['Date_of_Booking'].size()\n",
    "new_users = num_of_orders[num_of_orders == 1].index\n",
    "\n",
    "new_user_data = df.loc[df['Profile ID'].isin(num_of_orders[num_of_orders == 1].index)]\n",
    "test_data_orig = new_user_data.loc[(new_user_data['Date_of_Booking'].dt.month == 11) & (new_user_data['Date_of_Booking'].dt.year == 2018)]\n",
    "\n",
    "test_df = test_data_orig.copy()\n",
    "test_df['repeat_within_90_days'] = [2] * test_df.shape[0]\n",
    "test_df.drop(columns = ['Profile ID'], inplace = True)\n",
    "test_df.head()"
   ]
  },
  {
   "cell_type": "code",
   "execution_count": 114,
   "metadata": {},
   "outputs": [],
   "source": [
    "all_df = pd.concat([train_df, test_df], axis = 0)"
   ]
  },
  {
   "cell_type": "markdown",
   "metadata": {},
   "source": [
    "Feature Engineering<br>\n",
    "\n",
    "- ``Gap`` is difference between ``Date_of_Service_Requested`` and ``Date_of_Booking``<br>\n",
    "- ``Date_of_Service_Requested_dayofweek`` is the day-of-week for ``Date_of_Service_Requested``\n",
    "- ``Date_of_Booking_dayofweek`` is the day-of-week for ``Date_of_Booking``"
   ]
  },
  {
   "cell_type": "code",
   "execution_count": 115,
   "metadata": {},
   "outputs": [],
   "source": [
    "all_df['Gap'] = (all_df['Date_of_Service_Requested'] - all_df['Date_of_Booking']).dt.days\n",
    "all_df['Date_of_Service_Requested_dayofweek'] = all_df['Date_of_Service_Requested'].dt.day_name()\n",
    "all_df['Date_of_Booking_dayofweek'] = all_df['Date_of_Booking'].dt.day_name()"
   ]
  },
  {
   "cell_type": "code",
   "execution_count": 116,
   "metadata": {},
   "outputs": [
    {
     "data": {
      "text/html": [
       "<div>\n",
       "<style scoped>\n",
       "    .dataframe tbody tr th:only-of-type {\n",
       "        vertical-align: middle;\n",
       "    }\n",
       "\n",
       "    .dataframe tbody tr th {\n",
       "        vertical-align: top;\n",
       "    }\n",
       "\n",
       "    .dataframe thead th {\n",
       "        text-align: right;\n",
       "    }\n",
       "</style>\n",
       "<table border=\"1\" class=\"dataframe\">\n",
       "  <thead>\n",
       "    <tr style=\"text-align: right;\">\n",
       "      <th></th>\n",
       "      <th>Transaction_ID</th>\n",
       "      <th>Date_of_Booking</th>\n",
       "      <th>Date_of_Service_Requested</th>\n",
       "      <th>Source</th>\n",
       "      <th>Slot of Booking (Hour of the Day)</th>\n",
       "      <th>repeat_within_90_days</th>\n",
       "      <th>Gap</th>\n",
       "      <th>Date_of_Service_Requested_dayofweek</th>\n",
       "      <th>Date_of_Booking_dayofweek</th>\n",
       "    </tr>\n",
       "  </thead>\n",
       "  <tbody>\n",
       "    <tr>\n",
       "      <th>30727</th>\n",
       "      <td>MKCNH</td>\n",
       "      <td>2018-11-23</td>\n",
       "      <td>2018-11-24</td>\n",
       "      <td>B</td>\n",
       "      <td>14</td>\n",
       "      <td>2</td>\n",
       "      <td>1</td>\n",
       "      <td>Saturday</td>\n",
       "      <td>Friday</td>\n",
       "    </tr>\n",
       "    <tr>\n",
       "      <th>30854</th>\n",
       "      <td>SUAQY</td>\n",
       "      <td>2018-11-09</td>\n",
       "      <td>2018-11-09</td>\n",
       "      <td>B</td>\n",
       "      <td>14</td>\n",
       "      <td>2</td>\n",
       "      <td>0</td>\n",
       "      <td>Friday</td>\n",
       "      <td>Friday</td>\n",
       "    </tr>\n",
       "    <tr>\n",
       "      <th>30858</th>\n",
       "      <td>MPLRD</td>\n",
       "      <td>2018-11-19</td>\n",
       "      <td>2018-11-23</td>\n",
       "      <td>D</td>\n",
       "      <td>14</td>\n",
       "      <td>2</td>\n",
       "      <td>4</td>\n",
       "      <td>Friday</td>\n",
       "      <td>Monday</td>\n",
       "    </tr>\n",
       "    <tr>\n",
       "      <th>30859</th>\n",
       "      <td>AYBAL</td>\n",
       "      <td>2018-11-30</td>\n",
       "      <td>2018-12-02</td>\n",
       "      <td>C</td>\n",
       "      <td>6</td>\n",
       "      <td>2</td>\n",
       "      <td>2</td>\n",
       "      <td>Sunday</td>\n",
       "      <td>Friday</td>\n",
       "    </tr>\n",
       "    <tr>\n",
       "      <th>30915</th>\n",
       "      <td>BPNYR</td>\n",
       "      <td>2018-11-13</td>\n",
       "      <td>2018-11-17</td>\n",
       "      <td>C</td>\n",
       "      <td>11</td>\n",
       "      <td>2</td>\n",
       "      <td>4</td>\n",
       "      <td>Saturday</td>\n",
       "      <td>Tuesday</td>\n",
       "    </tr>\n",
       "  </tbody>\n",
       "</table>\n",
       "</div>"
      ],
      "text/plain": [
       "      Transaction_ID Date_of_Booking Date_of_Service_Requested Source  \\\n",
       "30727          MKCNH      2018-11-23                2018-11-24      B   \n",
       "30854          SUAQY      2018-11-09                2018-11-09      B   \n",
       "30858          MPLRD      2018-11-19                2018-11-23      D   \n",
       "30859          AYBAL      2018-11-30                2018-12-02      C   \n",
       "30915          BPNYR      2018-11-13                2018-11-17      C   \n",
       "\n",
       "       Slot of Booking (Hour of the Day)  repeat_within_90_days  Gap  \\\n",
       "30727                                 14                      2    1   \n",
       "30854                                 14                      2    0   \n",
       "30858                                 14                      2    4   \n",
       "30859                                  6                      2    2   \n",
       "30915                                 11                      2    4   \n",
       "\n",
       "      Date_of_Service_Requested_dayofweek Date_of_Booking_dayofweek  \n",
       "30727                            Saturday                    Friday  \n",
       "30854                              Friday                    Friday  \n",
       "30858                              Friday                    Monday  \n",
       "30859                              Sunday                    Friday  \n",
       "30915                            Saturday                   Tuesday  "
      ]
     },
     "execution_count": 116,
     "metadata": {},
     "output_type": "execute_result"
    }
   ],
   "source": [
    "all_df.tail()"
   ]
  },
  {
   "cell_type": "markdown",
   "metadata": {},
   "source": [
    "12. Processing the training data"
   ]
  },
  {
   "cell_type": "code",
   "execution_count": 117,
   "metadata": {},
   "outputs": [
    {
     "data": {
      "text/html": [
       "<div>\n",
       "<style scoped>\n",
       "    .dataframe tbody tr th:only-of-type {\n",
       "        vertical-align: middle;\n",
       "    }\n",
       "\n",
       "    .dataframe tbody tr th {\n",
       "        vertical-align: top;\n",
       "    }\n",
       "\n",
       "    .dataframe thead th {\n",
       "        text-align: right;\n",
       "    }\n",
       "</style>\n",
       "<table border=\"1\" class=\"dataframe\">\n",
       "  <thead>\n",
       "    <tr style=\"text-align: right;\">\n",
       "      <th></th>\n",
       "      <th>Transaction_ID</th>\n",
       "      <th>Date_of_Booking</th>\n",
       "      <th>Date_of_Service_Requested</th>\n",
       "      <th>Source</th>\n",
       "      <th>Slot of Booking (Hour of the Day)</th>\n",
       "      <th>repeat_within_90_days</th>\n",
       "      <th>Gap</th>\n",
       "      <th>Date_of_Service_Requested_dayofweek</th>\n",
       "      <th>Date_of_Booking_dayofweek</th>\n",
       "    </tr>\n",
       "  </thead>\n",
       "  <tbody>\n",
       "    <tr>\n",
       "      <th>30727</th>\n",
       "      <td>MKCNH</td>\n",
       "      <td>2018-11-23</td>\n",
       "      <td>2018-11-24</td>\n",
       "      <td>B</td>\n",
       "      <td>14</td>\n",
       "      <td>2</td>\n",
       "      <td>1</td>\n",
       "      <td>Saturday</td>\n",
       "      <td>Friday</td>\n",
       "    </tr>\n",
       "    <tr>\n",
       "      <th>30854</th>\n",
       "      <td>SUAQY</td>\n",
       "      <td>2018-11-09</td>\n",
       "      <td>2018-11-09</td>\n",
       "      <td>B</td>\n",
       "      <td>14</td>\n",
       "      <td>2</td>\n",
       "      <td>0</td>\n",
       "      <td>Friday</td>\n",
       "      <td>Friday</td>\n",
       "    </tr>\n",
       "    <tr>\n",
       "      <th>30858</th>\n",
       "      <td>MPLRD</td>\n",
       "      <td>2018-11-19</td>\n",
       "      <td>2018-11-23</td>\n",
       "      <td>D</td>\n",
       "      <td>14</td>\n",
       "      <td>2</td>\n",
       "      <td>4</td>\n",
       "      <td>Friday</td>\n",
       "      <td>Monday</td>\n",
       "    </tr>\n",
       "    <tr>\n",
       "      <th>30859</th>\n",
       "      <td>AYBAL</td>\n",
       "      <td>2018-11-30</td>\n",
       "      <td>2018-12-02</td>\n",
       "      <td>C</td>\n",
       "      <td>6</td>\n",
       "      <td>2</td>\n",
       "      <td>2</td>\n",
       "      <td>Sunday</td>\n",
       "      <td>Friday</td>\n",
       "    </tr>\n",
       "    <tr>\n",
       "      <th>30915</th>\n",
       "      <td>BPNYR</td>\n",
       "      <td>2018-11-13</td>\n",
       "      <td>2018-11-17</td>\n",
       "      <td>C</td>\n",
       "      <td>11</td>\n",
       "      <td>2</td>\n",
       "      <td>4</td>\n",
       "      <td>Saturday</td>\n",
       "      <td>Tuesday</td>\n",
       "    </tr>\n",
       "  </tbody>\n",
       "</table>\n",
       "</div>"
      ],
      "text/plain": [
       "      Transaction_ID Date_of_Booking Date_of_Service_Requested Source  \\\n",
       "30727          MKCNH      2018-11-23                2018-11-24      B   \n",
       "30854          SUAQY      2018-11-09                2018-11-09      B   \n",
       "30858          MPLRD      2018-11-19                2018-11-23      D   \n",
       "30859          AYBAL      2018-11-30                2018-12-02      C   \n",
       "30915          BPNYR      2018-11-13                2018-11-17      C   \n",
       "\n",
       "       Slot of Booking (Hour of the Day)  repeat_within_90_days  Gap  \\\n",
       "30727                                 14                      2    1   \n",
       "30854                                 14                      2    0   \n",
       "30858                                 14                      2    4   \n",
       "30859                                  6                      2    2   \n",
       "30915                                 11                      2    4   \n",
       "\n",
       "      Date_of_Service_Requested_dayofweek Date_of_Booking_dayofweek  \n",
       "30727                            Saturday                    Friday  \n",
       "30854                              Friday                    Friday  \n",
       "30858                              Friday                    Monday  \n",
       "30859                              Sunday                    Friday  \n",
       "30915                            Saturday                   Tuesday  "
      ]
     },
     "execution_count": 117,
     "metadata": {},
     "output_type": "execute_result"
    }
   ],
   "source": [
    "all_df.tail()"
   ]
  },
  {
   "cell_type": "markdown",
   "metadata": {},
   "source": [
    "One-Hot-Encoding the categorical variables <br>\n",
    "```Source, \n",
    "Slot of Booking (Hour of the Day), \n",
    "Date_of_Service_Requested_dayofweek, \n",
    "Date_of_Booking_dayofweek, \n",
    "Gap```\n",
    "Gap has been added as a categorical variable as it improves accuracy"
   ]
  },
  {
   "cell_type": "code",
   "execution_count": 118,
   "metadata": {},
   "outputs": [
    {
     "data": {
      "text/html": [
       "<div>\n",
       "<style scoped>\n",
       "    .dataframe tbody tr th:only-of-type {\n",
       "        vertical-align: middle;\n",
       "    }\n",
       "\n",
       "    .dataframe tbody tr th {\n",
       "        vertical-align: top;\n",
       "    }\n",
       "\n",
       "    .dataframe thead th {\n",
       "        text-align: right;\n",
       "    }\n",
       "</style>\n",
       "<table border=\"1\" class=\"dataframe\">\n",
       "  <thead>\n",
       "    <tr style=\"text-align: right;\">\n",
       "      <th></th>\n",
       "      <th>Transaction_ID</th>\n",
       "      <th>Date_of_Booking</th>\n",
       "      <th>Date_of_Service_Requested</th>\n",
       "      <th>repeat_within_90_days</th>\n",
       "      <th>Source__B</th>\n",
       "      <th>Source__C</th>\n",
       "      <th>Source__D</th>\n",
       "      <th>Slot of Booking (Hour of the Day)__7</th>\n",
       "      <th>Slot of Booking (Hour of the Day)__8</th>\n",
       "      <th>Slot of Booking (Hour of the Day)__9</th>\n",
       "      <th>Slot of Booking (Hour of the Day)__10</th>\n",
       "      <th>Slot of Booking (Hour of the Day)__11</th>\n",
       "      <th>Slot of Booking (Hour of the Day)__12</th>\n",
       "      <th>Slot of Booking (Hour of the Day)__13</th>\n",
       "      <th>Slot of Booking (Hour of the Day)__14</th>\n",
       "      <th>Slot of Booking (Hour of the Day)__15</th>\n",
       "      <th>Slot of Booking (Hour of the Day)__16</th>\n",
       "      <th>Slot of Booking (Hour of the Day)__17</th>\n",
       "      <th>Slot of Booking (Hour of the Day)__18</th>\n",
       "      <th>Slot of Booking (Hour of the Day)__19</th>\n",
       "      <th>Date_of_Service_Requested_dayofweek__Monday</th>\n",
       "      <th>Date_of_Service_Requested_dayofweek__Saturday</th>\n",
       "      <th>Date_of_Service_Requested_dayofweek__Sunday</th>\n",
       "      <th>Date_of_Service_Requested_dayofweek__Thursday</th>\n",
       "      <th>Date_of_Service_Requested_dayofweek__Tuesday</th>\n",
       "      <th>Date_of_Service_Requested_dayofweek__Wednesday</th>\n",
       "      <th>Date_of_Booking_dayofweek__Monday</th>\n",
       "      <th>Date_of_Booking_dayofweek__Saturday</th>\n",
       "      <th>Date_of_Booking_dayofweek__Sunday</th>\n",
       "      <th>Date_of_Booking_dayofweek__Thursday</th>\n",
       "      <th>Date_of_Booking_dayofweek__Tuesday</th>\n",
       "      <th>Date_of_Booking_dayofweek__Wednesday</th>\n",
       "      <th>Gap__1</th>\n",
       "      <th>Gap__2</th>\n",
       "      <th>Gap__3</th>\n",
       "      <th>Gap__4</th>\n",
       "      <th>Gap__5</th>\n",
       "    </tr>\n",
       "  </thead>\n",
       "  <tbody>\n",
       "    <tr>\n",
       "      <th>0</th>\n",
       "      <td>BBCHH</td>\n",
       "      <td>2018-05-20</td>\n",
       "      <td>2018-05-21</td>\n",
       "      <td>0</td>\n",
       "      <td>0</td>\n",
       "      <td>0</td>\n",
       "      <td>1</td>\n",
       "      <td>0</td>\n",
       "      <td>0</td>\n",
       "      <td>0</td>\n",
       "      <td>0</td>\n",
       "      <td>0</td>\n",
       "      <td>0</td>\n",
       "      <td>0</td>\n",
       "      <td>1</td>\n",
       "      <td>0</td>\n",
       "      <td>0</td>\n",
       "      <td>0</td>\n",
       "      <td>0</td>\n",
       "      <td>0</td>\n",
       "      <td>1</td>\n",
       "      <td>0</td>\n",
       "      <td>0</td>\n",
       "      <td>0</td>\n",
       "      <td>0</td>\n",
       "      <td>0</td>\n",
       "      <td>0</td>\n",
       "      <td>0</td>\n",
       "      <td>1</td>\n",
       "      <td>0</td>\n",
       "      <td>0</td>\n",
       "      <td>0</td>\n",
       "      <td>1</td>\n",
       "      <td>0</td>\n",
       "      <td>0</td>\n",
       "      <td>0</td>\n",
       "      <td>0</td>\n",
       "    </tr>\n",
       "    <tr>\n",
       "      <th>1</th>\n",
       "      <td>DYDMF</td>\n",
       "      <td>2018-11-10</td>\n",
       "      <td>2018-11-13</td>\n",
       "      <td>0</td>\n",
       "      <td>0</td>\n",
       "      <td>1</td>\n",
       "      <td>0</td>\n",
       "      <td>0</td>\n",
       "      <td>0</td>\n",
       "      <td>0</td>\n",
       "      <td>0</td>\n",
       "      <td>1</td>\n",
       "      <td>0</td>\n",
       "      <td>0</td>\n",
       "      <td>0</td>\n",
       "      <td>0</td>\n",
       "      <td>0</td>\n",
       "      <td>0</td>\n",
       "      <td>0</td>\n",
       "      <td>0</td>\n",
       "      <td>0</td>\n",
       "      <td>0</td>\n",
       "      <td>0</td>\n",
       "      <td>0</td>\n",
       "      <td>1</td>\n",
       "      <td>0</td>\n",
       "      <td>0</td>\n",
       "      <td>1</td>\n",
       "      <td>0</td>\n",
       "      <td>0</td>\n",
       "      <td>0</td>\n",
       "      <td>0</td>\n",
       "      <td>0</td>\n",
       "      <td>0</td>\n",
       "      <td>1</td>\n",
       "      <td>0</td>\n",
       "      <td>0</td>\n",
       "    </tr>\n",
       "    <tr>\n",
       "      <th>2</th>\n",
       "      <td>EZYSA</td>\n",
       "      <td>2018-04-12</td>\n",
       "      <td>2018-04-16</td>\n",
       "      <td>0</td>\n",
       "      <td>1</td>\n",
       "      <td>0</td>\n",
       "      <td>0</td>\n",
       "      <td>0</td>\n",
       "      <td>1</td>\n",
       "      <td>0</td>\n",
       "      <td>0</td>\n",
       "      <td>0</td>\n",
       "      <td>0</td>\n",
       "      <td>0</td>\n",
       "      <td>0</td>\n",
       "      <td>0</td>\n",
       "      <td>0</td>\n",
       "      <td>0</td>\n",
       "      <td>0</td>\n",
       "      <td>0</td>\n",
       "      <td>1</td>\n",
       "      <td>0</td>\n",
       "      <td>0</td>\n",
       "      <td>0</td>\n",
       "      <td>0</td>\n",
       "      <td>0</td>\n",
       "      <td>0</td>\n",
       "      <td>0</td>\n",
       "      <td>0</td>\n",
       "      <td>1</td>\n",
       "      <td>0</td>\n",
       "      <td>0</td>\n",
       "      <td>0</td>\n",
       "      <td>0</td>\n",
       "      <td>0</td>\n",
       "      <td>1</td>\n",
       "      <td>0</td>\n",
       "    </tr>\n",
       "    <tr>\n",
       "      <th>3</th>\n",
       "      <td>YRKFO</td>\n",
       "      <td>2018-03-02</td>\n",
       "      <td>2018-03-05</td>\n",
       "      <td>0</td>\n",
       "      <td>0</td>\n",
       "      <td>0</td>\n",
       "      <td>0</td>\n",
       "      <td>0</td>\n",
       "      <td>0</td>\n",
       "      <td>0</td>\n",
       "      <td>0</td>\n",
       "      <td>0</td>\n",
       "      <td>0</td>\n",
       "      <td>1</td>\n",
       "      <td>0</td>\n",
       "      <td>0</td>\n",
       "      <td>0</td>\n",
       "      <td>0</td>\n",
       "      <td>0</td>\n",
       "      <td>0</td>\n",
       "      <td>1</td>\n",
       "      <td>0</td>\n",
       "      <td>0</td>\n",
       "      <td>0</td>\n",
       "      <td>0</td>\n",
       "      <td>0</td>\n",
       "      <td>0</td>\n",
       "      <td>0</td>\n",
       "      <td>0</td>\n",
       "      <td>0</td>\n",
       "      <td>0</td>\n",
       "      <td>0</td>\n",
       "      <td>0</td>\n",
       "      <td>0</td>\n",
       "      <td>1</td>\n",
       "      <td>0</td>\n",
       "      <td>0</td>\n",
       "    </tr>\n",
       "    <tr>\n",
       "      <th>4</th>\n",
       "      <td>JSFWY</td>\n",
       "      <td>2018-01-06</td>\n",
       "      <td>2018-01-07</td>\n",
       "      <td>0</td>\n",
       "      <td>0</td>\n",
       "      <td>1</td>\n",
       "      <td>0</td>\n",
       "      <td>0</td>\n",
       "      <td>0</td>\n",
       "      <td>0</td>\n",
       "      <td>0</td>\n",
       "      <td>0</td>\n",
       "      <td>0</td>\n",
       "      <td>0</td>\n",
       "      <td>1</td>\n",
       "      <td>0</td>\n",
       "      <td>0</td>\n",
       "      <td>0</td>\n",
       "      <td>0</td>\n",
       "      <td>0</td>\n",
       "      <td>0</td>\n",
       "      <td>0</td>\n",
       "      <td>1</td>\n",
       "      <td>0</td>\n",
       "      <td>0</td>\n",
       "      <td>0</td>\n",
       "      <td>0</td>\n",
       "      <td>1</td>\n",
       "      <td>0</td>\n",
       "      <td>0</td>\n",
       "      <td>0</td>\n",
       "      <td>0</td>\n",
       "      <td>1</td>\n",
       "      <td>0</td>\n",
       "      <td>0</td>\n",
       "      <td>0</td>\n",
       "      <td>0</td>\n",
       "    </tr>\n",
       "  </tbody>\n",
       "</table>\n",
       "</div>"
      ],
      "text/plain": [
       "  Transaction_ID Date_of_Booking Date_of_Service_Requested  \\\n",
       "0          BBCHH      2018-05-20                2018-05-21   \n",
       "1          DYDMF      2018-11-10                2018-11-13   \n",
       "2          EZYSA      2018-04-12                2018-04-16   \n",
       "3          YRKFO      2018-03-02                2018-03-05   \n",
       "4          JSFWY      2018-01-06                2018-01-07   \n",
       "\n",
       "   repeat_within_90_days  Source__B  Source__C  Source__D  \\\n",
       "0                      0          0          0          1   \n",
       "1                      0          0          1          0   \n",
       "2                      0          1          0          0   \n",
       "3                      0          0          0          0   \n",
       "4                      0          0          1          0   \n",
       "\n",
       "   Slot of Booking (Hour of the Day)__7  Slot of Booking (Hour of the Day)__8  \\\n",
       "0                                     0                                     0   \n",
       "1                                     0                                     0   \n",
       "2                                     0                                     1   \n",
       "3                                     0                                     0   \n",
       "4                                     0                                     0   \n",
       "\n",
       "   Slot of Booking (Hour of the Day)__9  \\\n",
       "0                                     0   \n",
       "1                                     0   \n",
       "2                                     0   \n",
       "3                                     0   \n",
       "4                                     0   \n",
       "\n",
       "   Slot of Booking (Hour of the Day)__10  \\\n",
       "0                                      0   \n",
       "1                                      0   \n",
       "2                                      0   \n",
       "3                                      0   \n",
       "4                                      0   \n",
       "\n",
       "   Slot of Booking (Hour of the Day)__11  \\\n",
       "0                                      0   \n",
       "1                                      1   \n",
       "2                                      0   \n",
       "3                                      0   \n",
       "4                                      0   \n",
       "\n",
       "   Slot of Booking (Hour of the Day)__12  \\\n",
       "0                                      0   \n",
       "1                                      0   \n",
       "2                                      0   \n",
       "3                                      0   \n",
       "4                                      0   \n",
       "\n",
       "   Slot of Booking (Hour of the Day)__13  \\\n",
       "0                                      0   \n",
       "1                                      0   \n",
       "2                                      0   \n",
       "3                                      1   \n",
       "4                                      0   \n",
       "\n",
       "   Slot of Booking (Hour of the Day)__14  \\\n",
       "0                                      1   \n",
       "1                                      0   \n",
       "2                                      0   \n",
       "3                                      0   \n",
       "4                                      1   \n",
       "\n",
       "   Slot of Booking (Hour of the Day)__15  \\\n",
       "0                                      0   \n",
       "1                                      0   \n",
       "2                                      0   \n",
       "3                                      0   \n",
       "4                                      0   \n",
       "\n",
       "   Slot of Booking (Hour of the Day)__16  \\\n",
       "0                                      0   \n",
       "1                                      0   \n",
       "2                                      0   \n",
       "3                                      0   \n",
       "4                                      0   \n",
       "\n",
       "   Slot of Booking (Hour of the Day)__17  \\\n",
       "0                                      0   \n",
       "1                                      0   \n",
       "2                                      0   \n",
       "3                                      0   \n",
       "4                                      0   \n",
       "\n",
       "   Slot of Booking (Hour of the Day)__18  \\\n",
       "0                                      0   \n",
       "1                                      0   \n",
       "2                                      0   \n",
       "3                                      0   \n",
       "4                                      0   \n",
       "\n",
       "   Slot of Booking (Hour of the Day)__19  \\\n",
       "0                                      0   \n",
       "1                                      0   \n",
       "2                                      0   \n",
       "3                                      0   \n",
       "4                                      0   \n",
       "\n",
       "   Date_of_Service_Requested_dayofweek__Monday  \\\n",
       "0                                            1   \n",
       "1                                            0   \n",
       "2                                            1   \n",
       "3                                            1   \n",
       "4                                            0   \n",
       "\n",
       "   Date_of_Service_Requested_dayofweek__Saturday  \\\n",
       "0                                              0   \n",
       "1                                              0   \n",
       "2                                              0   \n",
       "3                                              0   \n",
       "4                                              0   \n",
       "\n",
       "   Date_of_Service_Requested_dayofweek__Sunday  \\\n",
       "0                                            0   \n",
       "1                                            0   \n",
       "2                                            0   \n",
       "3                                            0   \n",
       "4                                            1   \n",
       "\n",
       "   Date_of_Service_Requested_dayofweek__Thursday  \\\n",
       "0                                              0   \n",
       "1                                              0   \n",
       "2                                              0   \n",
       "3                                              0   \n",
       "4                                              0   \n",
       "\n",
       "   Date_of_Service_Requested_dayofweek__Tuesday  \\\n",
       "0                                             0   \n",
       "1                                             1   \n",
       "2                                             0   \n",
       "3                                             0   \n",
       "4                                             0   \n",
       "\n",
       "   Date_of_Service_Requested_dayofweek__Wednesday  \\\n",
       "0                                               0   \n",
       "1                                               0   \n",
       "2                                               0   \n",
       "3                                               0   \n",
       "4                                               0   \n",
       "\n",
       "   Date_of_Booking_dayofweek__Monday  Date_of_Booking_dayofweek__Saturday  \\\n",
       "0                                  0                                    0   \n",
       "1                                  0                                    1   \n",
       "2                                  0                                    0   \n",
       "3                                  0                                    0   \n",
       "4                                  0                                    1   \n",
       "\n",
       "   Date_of_Booking_dayofweek__Sunday  Date_of_Booking_dayofweek__Thursday  \\\n",
       "0                                  1                                    0   \n",
       "1                                  0                                    0   \n",
       "2                                  0                                    1   \n",
       "3                                  0                                    0   \n",
       "4                                  0                                    0   \n",
       "\n",
       "   Date_of_Booking_dayofweek__Tuesday  Date_of_Booking_dayofweek__Wednesday  \\\n",
       "0                                   0                                     0   \n",
       "1                                   0                                     0   \n",
       "2                                   0                                     0   \n",
       "3                                   0                                     0   \n",
       "4                                   0                                     0   \n",
       "\n",
       "   Gap__1  Gap__2  Gap__3  Gap__4  Gap__5  \n",
       "0       1       0       0       0       0  \n",
       "1       0       0       1       0       0  \n",
       "2       0       0       0       1       0  \n",
       "3       0       0       1       0       0  \n",
       "4       1       0       0       0       0  "
      ]
     },
     "execution_count": 118,
     "metadata": {},
     "output_type": "execute_result"
    }
   ],
   "source": [
    "train_test_df = pd.get_dummies(data = all_df, columns = ['Source', 'Slot of Booking (Hour of the Day)', 'Date_of_Service_Requested_dayofweek', 'Date_of_Booking_dayofweek', 'Gap'], prefix = ['Source_', 'Slot of Booking (Hour of the Day)_', 'Date_of_Service_Requested_dayofweek_', 'Date_of_Booking_dayofweek_', 'Gap_'], drop_first = True)\n",
    "train_test_df.head()"
   ]
  },
  {
   "cell_type": "markdown",
   "metadata": {},
   "source": [
    "Splitting the ``train_test_df`` into ``training_df`` and ``testing_df``"
   ]
  },
  {
   "cell_type": "code",
   "execution_count": 119,
   "metadata": {},
   "outputs": [],
   "source": [
    "training_df = train_test_df[train_test_df['repeat_within_90_days'] != 2]\n",
    "testing_df = train_test_df[train_test_df['repeat_within_90_days'] == 2]\n",
    "\n",
    "x = datetime.datetime.strptime(\"2018-September\", \"%Y-%B\")\n",
    "training_df = training_df[training_df['Date_of_Booking'] < x]\n",
    "\n",
    "training_df.drop(columns = ['Transaction_ID', 'Date_of_Booking', 'Date_of_Service_Requested'], inplace = True)\n",
    "testing_df.drop(columns = ['Transaction_ID', 'Date_of_Booking', 'Date_of_Service_Requested'], inplace = True)"
   ]
  },
  {
   "cell_type": "markdown",
   "metadata": {},
   "source": [
    "### Building the model"
   ]
  },
  {
   "cell_type": "markdown",
   "metadata": {},
   "source": [
    "Getting the ``dependent`` and ``independent`` variables"
   ]
  },
  {
   "cell_type": "code",
   "execution_count": 120,
   "metadata": {},
   "outputs": [],
   "source": [
    "X = training_df.iloc[:, 1:].values\n",
    "y = training_df.iloc[:, 0].values\n",
    "\n",
    "X_train, X_test, y_train, y_test = train_test_split(X, y, test_size=0.2, random_state=42)"
   ]
  },
  {
   "cell_type": "markdown",
   "metadata": {},
   "source": [
    "There is a need of upsampling the minority class which is unbalanced in the dataset ( 22.77% )\n",
    "<pre>SMOTE synthesises new minority instances between existing (real) minority instances.</pre>"
   ]
  },
  {
   "cell_type": "markdown",
   "metadata": {},
   "source": [
    "Upsampling the minority instances"
   ]
  },
  {
   "cell_type": "code",
   "execution_count": 121,
   "metadata": {},
   "outputs": [],
   "source": [
    "sm = SMOTE(random_state=2)\n",
    "X_train, y_train = sm.fit_sample(X_train, y_train.ravel())"
   ]
  },
  {
   "cell_type": "markdown",
   "metadata": {},
   "source": [
    "Building the ``Logistic Regression`` Base Model without any parameters"
   ]
  },
  {
   "cell_type": "code",
   "execution_count": 122,
   "metadata": {},
   "outputs": [
    {
     "name": "stdout",
     "output_type": "stream",
     "text": [
      "0.7682387619749448\n"
     ]
    }
   ],
   "source": [
    "model = LogisticRegression()\n",
    "model.fit(X_train, y_train)\n",
    "\n",
    "print(accuracy_score(model.predict(X_test), y_test))"
   ]
  },
  {
   "cell_type": "markdown",
   "metadata": {},
   "source": [
    "Checking if the model is biased for ``0`` values"
   ]
  },
  {
   "cell_type": "code",
   "execution_count": 123,
   "metadata": {},
   "outputs": [
    {
     "data": {
      "text/plain": [
       "0    2520\n",
       "1     194\n",
       "dtype: int64"
      ]
     },
     "execution_count": 123,
     "metadata": {},
     "output_type": "execute_result"
    }
   ],
   "source": [
    "pd.Series(model.predict(X_test)).value_counts()"
   ]
  },
  {
   "cell_type": "markdown",
   "metadata": {},
   "source": [
    "The model is not biased"
   ]
  },
  {
   "cell_type": "markdown",
   "metadata": {},
   "source": [
    "Optimizing the Logistic Regression by finding the right set of parameters using GridSearchCV <br>\n",
    "```python3\n",
    "param_grid = {\n",
    "    'penalty' : ['l1', 'l2'],\n",
    "    'tol' : np.geomspace(0.01, 0.0000001, 20),\n",
    "    'C' : np.arange(0.5, 5, 0.2),\n",
    "    'fit_intercept' : [True, False]\n",
    "}\n",
    "```"
   ]
  },
  {
   "cell_type": "code",
   "execution_count": 105,
   "metadata": {},
   "outputs": [
    {
     "name": "stdout",
     "output_type": "stream",
     "text": [
      "Fitting 5 folds for each of 1840 candidates, totalling 9200 fits\n"
     ]
    },
    {
     "name": "stderr",
     "output_type": "stream",
     "text": [
      "[Parallel(n_jobs=-1)]: Using backend LokyBackend with 4 concurrent workers.\n",
      "[Parallel(n_jobs=-1)]: Done  39 tasks      | elapsed:    2.0s\n"
     ]
    },
    {
     "ename": "KeyboardInterrupt",
     "evalue": "",
     "output_type": "error",
     "traceback": [
      "\u001b[0;31m---------------------------------------------------------------------------\u001b[0m",
      "\u001b[0;31mKeyboardInterrupt\u001b[0m                         Traceback (most recent call last)",
      "\u001b[0;32m<ipython-input-105-66dc6eac0554>\u001b[0m in \u001b[0;36m<module>\u001b[0;34m\u001b[0m\n\u001b[1;32m      9\u001b[0m \u001b[0;34m\u001b[0m\u001b[0m\n\u001b[1;32m     10\u001b[0m \u001b[0mclf\u001b[0m \u001b[0;34m=\u001b[0m \u001b[0mGridSearchCV\u001b[0m\u001b[0;34m(\u001b[0m\u001b[0mlc\u001b[0m\u001b[0;34m,\u001b[0m \u001b[0mparam_grid\u001b[0m\u001b[0;34m,\u001b[0m \u001b[0mcv\u001b[0m\u001b[0;34m=\u001b[0m\u001b[0;36m5\u001b[0m\u001b[0;34m,\u001b[0m \u001b[0mn_jobs\u001b[0m\u001b[0;34m=\u001b[0m\u001b[0;34m-\u001b[0m\u001b[0;36m1\u001b[0m\u001b[0;34m,\u001b[0m \u001b[0mverbose\u001b[0m \u001b[0;34m=\u001b[0m \u001b[0;36m2\u001b[0m\u001b[0;34m)\u001b[0m\u001b[0;34m\u001b[0m\u001b[0;34m\u001b[0m\u001b[0m\n\u001b[0;32m---> 11\u001b[0;31m \u001b[0mclf\u001b[0m\u001b[0;34m.\u001b[0m\u001b[0mfit\u001b[0m\u001b[0;34m(\u001b[0m\u001b[0mX_train\u001b[0m\u001b[0;34m,\u001b[0m \u001b[0my_train\u001b[0m\u001b[0;34m)\u001b[0m\u001b[0;34m\u001b[0m\u001b[0;34m\u001b[0m\u001b[0m\n\u001b[0m\u001b[1;32m     12\u001b[0m \u001b[0;34m\u001b[0m\u001b[0m\n\u001b[1;32m     13\u001b[0m \u001b[0mprint\u001b[0m\u001b[0;34m(\u001b[0m\u001b[0;34m\"Best Possible Score in the randomized dataset:\"\u001b[0m\u001b[0;34m,\u001b[0m \u001b[0mclf\u001b[0m\u001b[0;34m.\u001b[0m\u001b[0mbest_score_\u001b[0m\u001b[0;34m)\u001b[0m\u001b[0;34m\u001b[0m\u001b[0;34m\u001b[0m\u001b[0m\n",
      "\u001b[0;32m~/anaconda3/lib/python3.7/site-packages/sklearn/model_selection/_search.py\u001b[0m in \u001b[0;36mfit\u001b[0;34m(self, X, y, groups, **fit_params)\u001b[0m\n\u001b[1;32m    720\u001b[0m                 \u001b[0;32mreturn\u001b[0m \u001b[0mresults_container\u001b[0m\u001b[0;34m[\u001b[0m\u001b[0;36m0\u001b[0m\u001b[0;34m]\u001b[0m\u001b[0;34m\u001b[0m\u001b[0;34m\u001b[0m\u001b[0m\n\u001b[1;32m    721\u001b[0m \u001b[0;34m\u001b[0m\u001b[0m\n\u001b[0;32m--> 722\u001b[0;31m             \u001b[0mself\u001b[0m\u001b[0;34m.\u001b[0m\u001b[0m_run_search\u001b[0m\u001b[0;34m(\u001b[0m\u001b[0mevaluate_candidates\u001b[0m\u001b[0;34m)\u001b[0m\u001b[0;34m\u001b[0m\u001b[0;34m\u001b[0m\u001b[0m\n\u001b[0m\u001b[1;32m    723\u001b[0m \u001b[0;34m\u001b[0m\u001b[0m\n\u001b[1;32m    724\u001b[0m         \u001b[0mresults\u001b[0m \u001b[0;34m=\u001b[0m \u001b[0mresults_container\u001b[0m\u001b[0;34m[\u001b[0m\u001b[0;36m0\u001b[0m\u001b[0;34m]\u001b[0m\u001b[0;34m\u001b[0m\u001b[0;34m\u001b[0m\u001b[0m\n",
      "\u001b[0;32m~/anaconda3/lib/python3.7/site-packages/sklearn/model_selection/_search.py\u001b[0m in \u001b[0;36m_run_search\u001b[0;34m(self, evaluate_candidates)\u001b[0m\n\u001b[1;32m   1189\u001b[0m     \u001b[0;32mdef\u001b[0m \u001b[0m_run_search\u001b[0m\u001b[0;34m(\u001b[0m\u001b[0mself\u001b[0m\u001b[0;34m,\u001b[0m \u001b[0mevaluate_candidates\u001b[0m\u001b[0;34m)\u001b[0m\u001b[0;34m:\u001b[0m\u001b[0;34m\u001b[0m\u001b[0;34m\u001b[0m\u001b[0m\n\u001b[1;32m   1190\u001b[0m         \u001b[0;34m\"\"\"Search all candidates in param_grid\"\"\"\u001b[0m\u001b[0;34m\u001b[0m\u001b[0;34m\u001b[0m\u001b[0m\n\u001b[0;32m-> 1191\u001b[0;31m         \u001b[0mevaluate_candidates\u001b[0m\u001b[0;34m(\u001b[0m\u001b[0mParameterGrid\u001b[0m\u001b[0;34m(\u001b[0m\u001b[0mself\u001b[0m\u001b[0;34m.\u001b[0m\u001b[0mparam_grid\u001b[0m\u001b[0;34m)\u001b[0m\u001b[0;34m)\u001b[0m\u001b[0;34m\u001b[0m\u001b[0;34m\u001b[0m\u001b[0m\n\u001b[0m\u001b[1;32m   1192\u001b[0m \u001b[0;34m\u001b[0m\u001b[0m\n\u001b[1;32m   1193\u001b[0m \u001b[0;34m\u001b[0m\u001b[0m\n",
      "\u001b[0;32m~/anaconda3/lib/python3.7/site-packages/sklearn/model_selection/_search.py\u001b[0m in \u001b[0;36mevaluate_candidates\u001b[0;34m(candidate_params)\u001b[0m\n\u001b[1;32m    709\u001b[0m                                \u001b[0;32mfor\u001b[0m \u001b[0mparameters\u001b[0m\u001b[0;34m,\u001b[0m \u001b[0;34m(\u001b[0m\u001b[0mtrain\u001b[0m\u001b[0;34m,\u001b[0m \u001b[0mtest\u001b[0m\u001b[0;34m)\u001b[0m\u001b[0;34m\u001b[0m\u001b[0;34m\u001b[0m\u001b[0m\n\u001b[1;32m    710\u001b[0m                                in product(candidate_params,\n\u001b[0;32m--> 711\u001b[0;31m                                           cv.split(X, y, groups)))\n\u001b[0m\u001b[1;32m    712\u001b[0m \u001b[0;34m\u001b[0m\u001b[0m\n\u001b[1;32m    713\u001b[0m                 \u001b[0mall_candidate_params\u001b[0m\u001b[0;34m.\u001b[0m\u001b[0mextend\u001b[0m\u001b[0;34m(\u001b[0m\u001b[0mcandidate_params\u001b[0m\u001b[0;34m)\u001b[0m\u001b[0;34m\u001b[0m\u001b[0;34m\u001b[0m\u001b[0m\n",
      "\u001b[0;32m~/anaconda3/lib/python3.7/site-packages/sklearn/externals/joblib/parallel.py\u001b[0m in \u001b[0;36m__call__\u001b[0;34m(self, iterable)\u001b[0m\n\u001b[1;32m    928\u001b[0m \u001b[0;34m\u001b[0m\u001b[0m\n\u001b[1;32m    929\u001b[0m             \u001b[0;32mwith\u001b[0m \u001b[0mself\u001b[0m\u001b[0;34m.\u001b[0m\u001b[0m_backend\u001b[0m\u001b[0;34m.\u001b[0m\u001b[0mretrieval_context\u001b[0m\u001b[0;34m(\u001b[0m\u001b[0;34m)\u001b[0m\u001b[0;34m:\u001b[0m\u001b[0;34m\u001b[0m\u001b[0;34m\u001b[0m\u001b[0m\n\u001b[0;32m--> 930\u001b[0;31m                 \u001b[0mself\u001b[0m\u001b[0;34m.\u001b[0m\u001b[0mretrieve\u001b[0m\u001b[0;34m(\u001b[0m\u001b[0;34m)\u001b[0m\u001b[0;34m\u001b[0m\u001b[0;34m\u001b[0m\u001b[0m\n\u001b[0m\u001b[1;32m    931\u001b[0m             \u001b[0;31m# Make sure that we get a last message telling us we are done\u001b[0m\u001b[0;34m\u001b[0m\u001b[0;34m\u001b[0m\u001b[0;34m\u001b[0m\u001b[0m\n\u001b[1;32m    932\u001b[0m             \u001b[0melapsed_time\u001b[0m \u001b[0;34m=\u001b[0m \u001b[0mtime\u001b[0m\u001b[0;34m.\u001b[0m\u001b[0mtime\u001b[0m\u001b[0;34m(\u001b[0m\u001b[0;34m)\u001b[0m \u001b[0;34m-\u001b[0m \u001b[0mself\u001b[0m\u001b[0;34m.\u001b[0m\u001b[0m_start_time\u001b[0m\u001b[0;34m\u001b[0m\u001b[0;34m\u001b[0m\u001b[0m\n",
      "\u001b[0;32m~/anaconda3/lib/python3.7/site-packages/sklearn/externals/joblib/parallel.py\u001b[0m in \u001b[0;36mretrieve\u001b[0;34m(self)\u001b[0m\n\u001b[1;32m    831\u001b[0m             \u001b[0;32mtry\u001b[0m\u001b[0;34m:\u001b[0m\u001b[0;34m\u001b[0m\u001b[0;34m\u001b[0m\u001b[0m\n\u001b[1;32m    832\u001b[0m                 \u001b[0;32mif\u001b[0m \u001b[0mgetattr\u001b[0m\u001b[0;34m(\u001b[0m\u001b[0mself\u001b[0m\u001b[0;34m.\u001b[0m\u001b[0m_backend\u001b[0m\u001b[0;34m,\u001b[0m \u001b[0;34m'supports_timeout'\u001b[0m\u001b[0;34m,\u001b[0m \u001b[0;32mFalse\u001b[0m\u001b[0;34m)\u001b[0m\u001b[0;34m:\u001b[0m\u001b[0;34m\u001b[0m\u001b[0;34m\u001b[0m\u001b[0m\n\u001b[0;32m--> 833\u001b[0;31m                     \u001b[0mself\u001b[0m\u001b[0;34m.\u001b[0m\u001b[0m_output\u001b[0m\u001b[0;34m.\u001b[0m\u001b[0mextend\u001b[0m\u001b[0;34m(\u001b[0m\u001b[0mjob\u001b[0m\u001b[0;34m.\u001b[0m\u001b[0mget\u001b[0m\u001b[0;34m(\u001b[0m\u001b[0mtimeout\u001b[0m\u001b[0;34m=\u001b[0m\u001b[0mself\u001b[0m\u001b[0;34m.\u001b[0m\u001b[0mtimeout\u001b[0m\u001b[0;34m)\u001b[0m\u001b[0;34m)\u001b[0m\u001b[0;34m\u001b[0m\u001b[0;34m\u001b[0m\u001b[0m\n\u001b[0m\u001b[1;32m    834\u001b[0m                 \u001b[0;32melse\u001b[0m\u001b[0;34m:\u001b[0m\u001b[0;34m\u001b[0m\u001b[0;34m\u001b[0m\u001b[0m\n\u001b[1;32m    835\u001b[0m                     \u001b[0mself\u001b[0m\u001b[0;34m.\u001b[0m\u001b[0m_output\u001b[0m\u001b[0;34m.\u001b[0m\u001b[0mextend\u001b[0m\u001b[0;34m(\u001b[0m\u001b[0mjob\u001b[0m\u001b[0;34m.\u001b[0m\u001b[0mget\u001b[0m\u001b[0;34m(\u001b[0m\u001b[0;34m)\u001b[0m\u001b[0;34m)\u001b[0m\u001b[0;34m\u001b[0m\u001b[0;34m\u001b[0m\u001b[0m\n",
      "\u001b[0;32m~/anaconda3/lib/python3.7/site-packages/sklearn/externals/joblib/_parallel_backends.py\u001b[0m in \u001b[0;36mwrap_future_result\u001b[0;34m(future, timeout)\u001b[0m\n\u001b[1;32m    519\u001b[0m         AsyncResults.get from multiprocessing.\"\"\"\n\u001b[1;32m    520\u001b[0m         \u001b[0;32mtry\u001b[0m\u001b[0;34m:\u001b[0m\u001b[0;34m\u001b[0m\u001b[0;34m\u001b[0m\u001b[0m\n\u001b[0;32m--> 521\u001b[0;31m             \u001b[0;32mreturn\u001b[0m \u001b[0mfuture\u001b[0m\u001b[0;34m.\u001b[0m\u001b[0mresult\u001b[0m\u001b[0;34m(\u001b[0m\u001b[0mtimeout\u001b[0m\u001b[0;34m=\u001b[0m\u001b[0mtimeout\u001b[0m\u001b[0;34m)\u001b[0m\u001b[0;34m\u001b[0m\u001b[0;34m\u001b[0m\u001b[0m\n\u001b[0m\u001b[1;32m    522\u001b[0m         \u001b[0;32mexcept\u001b[0m \u001b[0mLokyTimeoutError\u001b[0m\u001b[0;34m:\u001b[0m\u001b[0;34m\u001b[0m\u001b[0;34m\u001b[0m\u001b[0m\n\u001b[1;32m    523\u001b[0m             \u001b[0;32mraise\u001b[0m \u001b[0mTimeoutError\u001b[0m\u001b[0;34m(\u001b[0m\u001b[0;34m)\u001b[0m\u001b[0;34m\u001b[0m\u001b[0;34m\u001b[0m\u001b[0m\n",
      "\u001b[0;32m~/anaconda3/lib/python3.7/concurrent/futures/_base.py\u001b[0m in \u001b[0;36mresult\u001b[0;34m(self, timeout)\u001b[0m\n\u001b[1;32m    425\u001b[0m                 \u001b[0;32mreturn\u001b[0m \u001b[0mself\u001b[0m\u001b[0;34m.\u001b[0m\u001b[0m__get_result\u001b[0m\u001b[0;34m(\u001b[0m\u001b[0;34m)\u001b[0m\u001b[0;34m\u001b[0m\u001b[0;34m\u001b[0m\u001b[0m\n\u001b[1;32m    426\u001b[0m \u001b[0;34m\u001b[0m\u001b[0m\n\u001b[0;32m--> 427\u001b[0;31m             \u001b[0mself\u001b[0m\u001b[0;34m.\u001b[0m\u001b[0m_condition\u001b[0m\u001b[0;34m.\u001b[0m\u001b[0mwait\u001b[0m\u001b[0;34m(\u001b[0m\u001b[0mtimeout\u001b[0m\u001b[0;34m)\u001b[0m\u001b[0;34m\u001b[0m\u001b[0;34m\u001b[0m\u001b[0m\n\u001b[0m\u001b[1;32m    428\u001b[0m \u001b[0;34m\u001b[0m\u001b[0m\n\u001b[1;32m    429\u001b[0m             \u001b[0;32mif\u001b[0m \u001b[0mself\u001b[0m\u001b[0;34m.\u001b[0m\u001b[0m_state\u001b[0m \u001b[0;32min\u001b[0m \u001b[0;34m[\u001b[0m\u001b[0mCANCELLED\u001b[0m\u001b[0;34m,\u001b[0m \u001b[0mCANCELLED_AND_NOTIFIED\u001b[0m\u001b[0;34m]\u001b[0m\u001b[0;34m:\u001b[0m\u001b[0;34m\u001b[0m\u001b[0;34m\u001b[0m\u001b[0m\n",
      "\u001b[0;32m~/anaconda3/lib/python3.7/threading.py\u001b[0m in \u001b[0;36mwait\u001b[0;34m(self, timeout)\u001b[0m\n\u001b[1;32m    294\u001b[0m         \u001b[0;32mtry\u001b[0m\u001b[0;34m:\u001b[0m    \u001b[0;31m# restore state no matter what (e.g., KeyboardInterrupt)\u001b[0m\u001b[0;34m\u001b[0m\u001b[0;34m\u001b[0m\u001b[0m\n\u001b[1;32m    295\u001b[0m             \u001b[0;32mif\u001b[0m \u001b[0mtimeout\u001b[0m \u001b[0;32mis\u001b[0m \u001b[0;32mNone\u001b[0m\u001b[0;34m:\u001b[0m\u001b[0;34m\u001b[0m\u001b[0;34m\u001b[0m\u001b[0m\n\u001b[0;32m--> 296\u001b[0;31m                 \u001b[0mwaiter\u001b[0m\u001b[0;34m.\u001b[0m\u001b[0macquire\u001b[0m\u001b[0;34m(\u001b[0m\u001b[0;34m)\u001b[0m\u001b[0;34m\u001b[0m\u001b[0;34m\u001b[0m\u001b[0m\n\u001b[0m\u001b[1;32m    297\u001b[0m                 \u001b[0mgotit\u001b[0m \u001b[0;34m=\u001b[0m \u001b[0;32mTrue\u001b[0m\u001b[0;34m\u001b[0m\u001b[0;34m\u001b[0m\u001b[0m\n\u001b[1;32m    298\u001b[0m             \u001b[0;32melse\u001b[0m\u001b[0;34m:\u001b[0m\u001b[0;34m\u001b[0m\u001b[0;34m\u001b[0m\u001b[0m\n",
      "\u001b[0;31mKeyboardInterrupt\u001b[0m: "
     ]
    }
   ],
   "source": [
    "lc = LogisticRegression(n_jobs = -1)\n",
    "\n",
    "param_grid = {\n",
    "    'penalty' : ['l1', 'l2'],\n",
    "    'tol' : np.geomspace(0.01, 0.0000001, 20),\n",
    "    'C' : np.arange(0.5, 5, 0.2),\n",
    "    'fit_intercept' : [True, False]\n",
    "}\n",
    "    \n",
    "clf = GridSearchCV(lc, param_grid, cv=5, n_jobs=-1, verbose = 2)\n",
    "clf.fit(X_train, y_train)\n",
    "\n",
    "print(\"Best Possible Score in the randomized dataset:\", clf.best_score_)\n",
    "print(\"Best Parameters :\", clf.best_params_)"
   ]
  },
  {
   "cell_type": "markdown",
   "metadata": {},
   "source": [
    "Additional CrossValidation using ``RepeatedKFold``"
   ]
  },
  {
   "cell_type": "code",
   "execution_count": 124,
   "metadata": {
    "scrolled": true
   },
   "outputs": [
    {
     "name": "stdout",
     "output_type": "stream",
     "text": [
      "\n",
      "Average accuracy_score : 81.45400000000001\n"
     ]
    }
   ],
   "source": [
    "kf = RepeatedKFold(n_splits=5, n_repeats=10, random_state=None) \n",
    "\n",
    "X = training_df.iloc[:, 1:].values\n",
    "y = training_df.iloc[:, 0].values\n",
    "\n",
    "sm = SMOTE(random_state=2)\n",
    "X_train, y_train = sm.fit_sample(X_train, y_train.ravel())\n",
    "\n",
    "scores = []\n",
    "\n",
    "for train_index, test_index in kf.split(X):\n",
    "    X_train, X_test = X[train_index], X[test_index] \n",
    "    y_train, y_test = y[train_index], y[test_index]\n",
    "\n",
    "    lc = LogisticRegression(C = 2.01, fit_intercept = True, penalty = 'l1')\n",
    "    lc.fit(X_train, y_train)\n",
    "    \n",
    "    scores.append(accuracy_score(lc.predict(X_test), y_test))\n",
    "\n",
    "print(\"\\nAverage accuracy_score :\", np.mean(scores).round(5) * 100)"
   ]
  },
  {
   "cell_type": "markdown",
   "metadata": {},
   "source": [
    "**Making Predictions**<br>\n",
    "Predicting the values for test-set"
   ]
  },
  {
   "cell_type": "code",
   "execution_count": 125,
   "metadata": {},
   "outputs": [],
   "source": [
    "testing_X = testing_df.iloc[:, 1:].values\n",
    "testing_y = model.predict(testing_X)"
   ]
  },
  {
   "cell_type": "code",
   "execution_count": 126,
   "metadata": {},
   "outputs": [
    {
     "name": "stdout",
     "output_type": "stream",
     "text": [
      "Predicted 90 day rate : 8.785249457700651\n"
     ]
    }
   ],
   "source": [
    "testing_y_dist = pd.Series(testing_y).value_counts()\n",
    "print(\"Predicted 90 day rate :\", testing_y_dist[1] * 100 / testing_y_dist[0])"
   ]
  },
  {
   "cell_type": "markdown",
   "metadata": {},
   "source": [
    "### Solution 5 : Plot the distribution of users by frequency of their 90-day repeat"
   ]
  },
  {
   "cell_type": "markdown",
   "metadata": {},
   "source": [
    "1. Group by Profile ID and finding the number of times new users who placed their second order before 90 days of placing their first Order<br>\n",
    "```python3\n",
    "df[['Profile ID', 'Date_of_Booking']].groupby(['Profile ID'])['Date_of_Booking'].apply(lambda x: ((x - min(x)).dt.days < 90).sum())\n",
    "```"
   ]
  },
  {
   "cell_type": "code",
   "execution_count": 127,
   "metadata": {},
   "outputs": [
    {
     "data": {
      "text/html": [
       "<div>\n",
       "<style scoped>\n",
       "    .dataframe tbody tr th:only-of-type {\n",
       "        vertical-align: middle;\n",
       "    }\n",
       "\n",
       "    .dataframe tbody tr th {\n",
       "        vertical-align: top;\n",
       "    }\n",
       "\n",
       "    .dataframe thead th {\n",
       "        text-align: right;\n",
       "    }\n",
       "</style>\n",
       "<table border=\"1\" class=\"dataframe\">\n",
       "  <thead>\n",
       "    <tr style=\"text-align: right;\">\n",
       "      <th></th>\n",
       "      <th>Number of uses within 90 days</th>\n",
       "    </tr>\n",
       "    <tr>\n",
       "      <th>Profile ID</th>\n",
       "      <th></th>\n",
       "    </tr>\n",
       "  </thead>\n",
       "  <tbody>\n",
       "    <tr>\n",
       "      <th>1</th>\n",
       "      <td>1</td>\n",
       "    </tr>\n",
       "    <tr>\n",
       "      <th>2</th>\n",
       "      <td>1</td>\n",
       "    </tr>\n",
       "    <tr>\n",
       "      <th>3</th>\n",
       "      <td>1</td>\n",
       "    </tr>\n",
       "    <tr>\n",
       "      <th>4</th>\n",
       "      <td>1</td>\n",
       "    </tr>\n",
       "    <tr>\n",
       "      <th>5</th>\n",
       "      <td>1</td>\n",
       "    </tr>\n",
       "  </tbody>\n",
       "</table>\n",
       "</div>"
      ],
      "text/plain": [
       "            Number of uses within 90 days\n",
       "Profile ID                               \n",
       "1                                       1\n",
       "2                                       1\n",
       "3                                       1\n",
       "4                                       1\n",
       "5                                       1"
      ]
     },
     "execution_count": 127,
     "metadata": {},
     "output_type": "execute_result"
    }
   ],
   "source": [
    "number_of_used_within_90days = df[['Profile ID', 'Date_of_Booking']].groupby(['Profile ID'])['Date_of_Booking'].apply(lambda x: ((x - min(x)).dt.days < 90).sum())\n",
    "number_of_used_within_90days = number_of_used_within_90days.to_frame().rename(columns = {'Date_of_Booking' : 'Number of uses within 90 days'})\n",
    "number_of_used_within_90days.head()"
   ]
  },
  {
   "cell_type": "markdown",
   "metadata": {},
   "source": [
    "**2. Plotting Using Seaborn**\n"
   ]
  },
  {
   "cell_type": "code",
   "execution_count": 128,
   "metadata": {},
   "outputs": [
    {
     "data": {
      "image/png": "[encoded data removed]",
      "text/plain": [
       "<Figure size 720x504 with 1 Axes>"
      ]
     },
     "metadata": {
      "needs_background": "light"
     },
     "output_type": "display_data"
    }
   ],
   "source": [
    "freq = number_of_used_within_90days['Number of uses within 90 days']\n",
    "\n",
    "ax = plt.figure(figsize = (10, 7))\n",
    "cplot = sns.barplot(\n",
    "    x = freq.value_counts().sort_index().index,\n",
    "    y = freq.value_counts().sort_index().values\n",
    ")\n",
    "\n",
    "cplot.set_xticklabels(freq.index)\n",
    "cplot.set_title('Number of times user repeated within first 90 days')\n",
    "\n",
    "cplot.set(xlabel='Number of times the users reported withing first 90 days', \n",
    "          ylabel='Number of Users')\n",
    "\n",
    "plt.show()"
   ]
  },
  {
   "cell_type": "markdown",
   "metadata": {},
   "source": [
    "**3. Plotting Using Plotly for more interactivity**"
   ]
  },
  {
   "cell_type": "code",
   "execution_count": 131,
   "metadata": {
    "scrolled": false
   },
   "outputs": [
    {
     "data": {
      "text/html": [
       "<iframe id=\"igraph\" scrolling=\"no\" style=\"border:none;\" seamless=\"seamless\" src=\"https://plot.ly/~revantg/4.embed\" height=\"525px\" width=\"100%\"></iframe>"
      ],
      "text/plain": [
       "<chart_studio.tools.PlotlyDisplay object>"
      ]
     },
     "execution_count": 131,
     "metadata": {},
     "output_type": "execute_result"
    }
   ],
   "source": [
    "trace0 = plotly.graph_objs.Bar(\n",
    "    x=freq.value_counts().sort_index().index,\n",
    "    y=freq.value_counts().sort_index().values,\n",
    "    marker=dict(\n",
    "        color='rgb(158,202,225)',\n",
    "        line=dict(\n",
    "            color='rgb(8,48,107)',\n",
    "            width=1.5,\n",
    "        )\n",
    "    ),\n",
    "    opacity=0.6\n",
    ")\n",
    "\n",
    "data = [trace0]\n",
    "layout = plotly.graph_objs.Layout(\n",
    "    title='Distribution of frequency',\n",
    ")\n",
    "\n",
    "fig = plotly.graph_objs.Figure(data=data, layout=layout)\n",
    "plotly.plotly.iplot(fig, filename='Distribution_of_frequency')"
   ]
  },
  {
   "cell_type": "markdown",
   "metadata": {},
   "source": [
    "## Alternative Solution to Problem 2 and 3"
   ]
  },
  {
   "cell_type": "code",
   "execution_count": 132,
   "metadata": {},
   "outputs": [
    {
     "name": "stdout",
     "output_type": "stream",
     "text": [
      "Solution 2 : 16.831683168316832\n",
      "Solution 3: 20.74629892516731\n"
     ]
    }
   ],
   "source": [
    "users = {}\n",
    "for i, row in df.iterrows():\n",
    "    if row['Profile ID'] not in users:\n",
    "        users[row['Profile ID']] = [row['Date_of_Booking']]\n",
    "    else:\n",
    "        users[row['Profile ID']] += [row['Date_of_Booking']]\n",
    "        \n",
    "for i in users:\n",
    "    users[i].sort()\n",
    "    \n",
    "c=0\n",
    "tc = 0\n",
    "for i in users:\n",
    "    if users[i][0].month == 12 and users[i][0].year == 2017:\n",
    "        tc += 1\n",
    "        if len(users[i]) > 1 and (users[i][1] - users[i][0]).days <= 30:\n",
    "            c+= 1\n",
    "print(\"Solution 2 :\", c/tc * 100)\n",
    "\n",
    "c=0\n",
    "tc = 0\n",
    "for i in users:\n",
    "    if users[i][0].month in [1, 2, 3]:\n",
    "        tc += 1\n",
    "        if len(users[i]) > 1 and (users[i][1] - users[i][0]).days <= 90:\n",
    "            c+=1\n",
    "print(\"Solution 3:\", c/tc * 100)"
   ]
  },
  {
   "cell_type": "markdown",
   "metadata": {},
   "source": [
    "# Some Useful Insights"
   ]
  },
  {
   "cell_type": "markdown",
   "metadata": {},
   "source": [
    "### Distribution of 90 Day Repeat Rate (month-wise)"
   ]
  },
  {
   "cell_type": "code",
   "execution_count": 133,
   "metadata": {},
   "outputs": [
    {
     "name": "stdout",
     "output_type": "stream",
     "text": [
      "90 Day Repeat Rate for December 2017 = 0.5782060785767235\n",
      "90 Day Repeat Rate for January 2018 = 0.5461077844311377\n",
      "90 Day Repeat Rate for February 2018 = 0.5081699346405228\n",
      "90 Day Repeat Rate for March 2018 = 0.4951644100580271\n",
      "90 Day Repeat Rate for April 2018 = 0.5139664804469274\n",
      "90 Day Repeat Rate for May 2018 = 0.5641891891891891\n",
      "90 Day Repeat Rate for June 2018 = 0.5943775100401606\n",
      "90 Day Repeat Rate for July 2018 = 0.676923076923077\n"
     ]
    },
    {
     "data": {
      "text/html": [
       "<iframe id=\"igraph\" scrolling=\"no\" style=\"border:none;\" seamless=\"seamless\" src=\"https://plot.ly/~revantg/6.embed\" height=\"525px\" width=\"100%\"></iframe>"
      ],
      "text/plain": [
       "<chart_studio.tools.PlotlyDisplay object>"
      ]
     },
     "execution_count": 133,
     "metadata": {},
     "output_type": "execute_result"
    }
   ],
   "source": [
    "formatted_months = []\n",
    "day_repeat_rates = []\n",
    "\n",
    "for month in [12] + list(np.arange(1, 8)):\n",
    "    \n",
    "    if month == 12:year = 2017\n",
    "    else: year = 2018\n",
    "        \n",
    "    repeat_rate_mon, repeat_rate_year = [month], [year]\n",
    "    rep_rate_interval = 90\n",
    "\n",
    "    first_booking_data = df.groupby(['Profile ID'])['Date_of_Booking'].min().to_frame().reset_index()\n",
    "\n",
    "    dec_users_id = first_booking_data[(first_booking_data['Date_of_Booking'].dt.month.isin(repeat_rate_mon)) & (first_booking_data['Date_of_Booking'].dt.year.isin(repeat_rate_year))]['Profile ID'].values\n",
    "    dec_users_data = df.loc[df['Profile ID'].isin(dec_users_id)]\n",
    "    dec_users_data.sort_values(['Profile ID', 'Date_of_Booking']).head()\n",
    "\n",
    "    freq_dec_users = dec_users_data.groupby(['Profile ID']).size()\n",
    "    repeat_dec_users = list(freq_dec_users[freq_dec_users > 1].index)\n",
    "    dec_users_data = df.loc[df['Profile ID'].isin(repeat_dec_users)]\n",
    "\n",
    "    a = dec_users_data.groupby(['Profile ID'])['Date_of_Booking'].nsmallest(2).groupby(level = 'Profile ID')\n",
    "    \n",
    "    day_repeat_rates.append(((a.last() - a.first()).dt.days <= rep_rate_interval).sum() / len(repeat_dec_users))\n",
    "    formatted_months.append(time.strftime(\"%B\", time.strptime(str(month), '%m')) + f\" {year}\")\n",
    "    print(f\"90 Day Repeat Rate for {formatted_months[-1]} = {day_repeat_rates[-1]}\")\n",
    "\n",
    "\n",
    "trace0 = plotly.graph_objs.Bar(\n",
    "    x=formatted_months,\n",
    "    y=day_repeat_rates,\n",
    "    marker=dict(\n",
    "        color='rgb(158,202,225)',\n",
    "        line=dict(\n",
    "            color='rgb(8,48,107)',\n",
    "            width=1.5,\n",
    "        )\n",
    "    ),\n",
    "    opacity=0.6\n",
    ")\n",
    "\n",
    "data = [trace0]\n",
    "layout = plotly.graph_objs.Layout(\n",
    "    title='90 Day Repeat Rates',\n",
    ")\n",
    "\n",
    "fig = plotly.graph_objs.Figure(data=data, layout=layout)\n",
    "plotly.plotly.iplot(fig, filename='90 Day Repeat Rates')"
   ]
  },
  {
   "cell_type": "markdown",
   "metadata": {},
   "source": [
    "> **Insight**\n",
    "- 90 Day repeat rates showed a mild decline during the Spring season of 2018\n"
   ]
  },
  {
   "cell_type": "markdown",
   "metadata": {},
   "source": [
    "### Gap between the ``Date of Booking`` and ``Date of Service``"
   ]
  },
  {
   "cell_type": "code",
   "execution_count": 134,
   "metadata": {},
   "outputs": [
    {
     "data": {
      "text/plain": [
       "<matplotlib.axes._subplots.AxesSubplot at 0x7f407216c438>"
      ]
     },
     "execution_count": 134,
     "metadata": {},
     "output_type": "execute_result"
    },
    {
     "data": {
      "image/png": "[encoded data removed]",
      "text/plain": [
       "<Figure size 504x360 with 1 Axes>"
      ]
     },
     "metadata": {
      "needs_background": "light"
     },
     "output_type": "display_data"
    }
   ],
   "source": [
    "ax = plt.figure(figsize = (7, 5))\n",
    "(df['Date_of_Service_Requested'] - df['Date_of_Booking']).dt.days.value_counts().sort_index().plot(kind = 'bar')"
   ]
  },
  {
   "cell_type": "markdown",
   "metadata": {},
   "source": [
    "> **Insight**<br>\n",
    "Gaps are more or less uniform. Nothing special here."
   ]
  },
  {
   "cell_type": "markdown",
   "metadata": {},
   "source": [
    "### Most Preferred Source"
   ]
  },
  {
   "cell_type": "code",
   "execution_count": 135,
   "metadata": {},
   "outputs": [
    {
     "data": {
      "text/plain": [
       "<matplotlib.axes._subplots.AxesSubplot at 0x7f407100bbe0>"
      ]
     },
     "execution_count": 135,
     "metadata": {},
     "output_type": "execute_result"
    },
    {
     "data": {
      "image/png": "[encoded data removed]",
      "text/plain": [
       "<Figure size 504x360 with 1 Axes>"
      ]
     },
     "metadata": {
      "needs_background": "light"
     },
     "output_type": "display_data"
    }
   ],
   "source": [
    "ax = plt.figure(figsize = (7, 5))\n",
    "df[['Profile ID', 'Source']].groupby('Profile ID')['Source'].apply(lambda x : x.value_counts().index[0]).value_counts().sort_index().plot(kind = 'bar')"
   ]
  },
  {
   "cell_type": "code",
   "execution_count": 136,
   "metadata": {},
   "outputs": [
    {
     "data": {
      "text/plain": [
       "A    2751\n",
       "B    3542\n",
       "C    6120\n",
       "D    4298\n",
       "Name: Source, dtype: int64"
      ]
     },
     "execution_count": 136,
     "metadata": {},
     "output_type": "execute_result"
    }
   ],
   "source": [
    "df[['Profile ID', 'Source']].groupby('Profile ID')['Source'].apply(lambda x : x.value_counts().index[0]).value_counts().sort_index()"
   ]
  },
  {
   "cell_type": "markdown",
   "metadata": {},
   "source": [
    "> **INSIGHT**<br>\n",
    "Source C was Major Source for 38.84% of users"
   ]
  },
  {
   "cell_type": "markdown",
   "metadata": {},
   "source": [
    "### Distribution Of ``Date_of_Booking`` wrt day"
   ]
  },
  {
   "cell_type": "code",
   "execution_count": 137,
   "metadata": {},
   "outputs": [
    {
     "data": {
      "text/html": [
       "<iframe id=\"igraph\" scrolling=\"no\" style=\"border:none;\" seamless=\"seamless\" src=\"https://plot.ly/~revantg/18.embed\" height=\"525px\" width=\"100%\"></iframe>"
      ],
      "text/plain": [
       "<chart_studio.tools.PlotlyDisplay object>"
      ]
     },
     "execution_count": 137,
     "metadata": {},
     "output_type": "execute_result"
    }
   ],
   "source": [
    "booking_date_distribution = df['Date_of_Booking'].dt.dayofweek.value_counts()\n",
    "\n",
    "trace0 = plotly.graph_objs.Bar(\n",
    "    x=list(calendar.day_name),\n",
    "    y=booking_date_distribution.values,\n",
    "    marker=dict(\n",
    "        color='rgb(158,202,225)',\n",
    "        line=dict(\n",
    "            color='rgb(8,48,107)',\n",
    "            width=1.5,\n",
    "        )\n",
    "    ),\n",
    "    opacity=0.6\n",
    ")\n",
    "\n",
    "data = [trace0]\n",
    "layout = plotly.graph_objs.Layout(\n",
    "    title='DayWise Distribution of Date Of Booking',\n",
    ")\n",
    "\n",
    "fig = plotly.graph_objs.Figure(data=data, layout=layout)\n",
    "plotly.plotly.iplot(fig, filename='DayWise Distribution of Date Of Booking')"
   ]
  },
  {
   "cell_type": "markdown",
   "metadata": {},
   "source": [
    "> **INSIGHT**<br>\n",
    "Distribution of Orders on all weekdays is a Uniform Distribution"
   ]
  },
  {
   "cell_type": "markdown",
   "metadata": {},
   "source": [
    "### Distribution Of ``Date_of_Service`` wrt day"
   ]
  },
  {
   "cell_type": "code",
   "execution_count": 139,
   "metadata": {},
   "outputs": [
    {
     "data": {
      "text/html": [
       "<iframe id=\"igraph\" scrolling=\"no\" style=\"border:none;\" seamless=\"seamless\" src=\"https://plot.ly/~revantg/20.embed\" height=\"525px\" width=\"100%\"></iframe>"
      ],
      "text/plain": [
       "<chart_studio.tools.PlotlyDisplay object>"
      ]
     },
     "execution_count": 139,
     "metadata": {},
     "output_type": "execute_result"
    }
   ],
   "source": [
    "\n",
    "service_date_distribution = df['Date_of_Service_Requested'].dt.dayofweek.value_counts()\n",
    "\n",
    "trace0 = plotly.graph_objs.Bar(\n",
    "    x=list(calendar.day_name),\n",
    "    y=service_date_distribution.values,\n",
    "    marker=dict(\n",
    "        color='rgb(158,202,225)',\n",
    "        line=dict(\n",
    "            color='rgb(8,48,107)',\n",
    "            width=1.5,\n",
    "        )\n",
    "    ),\n",
    "    opacity=0.6\n",
    ")\n",
    "\n",
    "data = [trace0]\n",
    "layout = plotly.graph_objs.Layout(\n",
    "    title='Distribution Of Date_of_Service wrt day',\n",
    ")\n",
    "\n",
    "fig = plotly.graph_objs.Figure(data=data, layout=layout)\n",
    "plotly.plotly.iplot(fig, filename='Distribution Of Date_of_Service wrt day')"
   ]
  },
  {
   "cell_type": "code",
   "execution_count": 140,
   "metadata": {},
   "outputs": [
    {
     "data": {
      "text/html": [
       "<iframe id=\"igraph\" scrolling=\"no\" style=\"border:none;\" seamless=\"seamless\" src=\"https://plot.ly/~revantg/10.embed\" height=\"525px\" width=\"100%\"></iframe>"
      ],
      "text/plain": [
       "<chart_studio.tools.PlotlyDisplay object>"
      ]
     },
     "execution_count": 140,
     "metadata": {},
     "output_type": "execute_result"
    }
   ],
   "source": [
    "df['Morning']   = 0       # From 6 to 12\n",
    "df['Afternoon'] = 0       # From 12 - 16\n",
    "df['Evening']   = 0       # From 16+\n",
    "\n",
    "df.loc[df['Slot of Booking (Hour of the Day)'].between(6, 12, inclusive = True), 'Morning'] = 1\n",
    "df.loc[df['Slot of Booking (Hour of the Day)'].between(13, 16, inclusive = True), 'Afternoon'] = 1\n",
    "df.loc[df['Slot of Booking (Hour of the Day)'] >= 17, 'Evening'] = 1\n",
    "\n",
    "trace0 = plotly.graph_objs.Bar(\n",
    "    x=['Morning', 'Afternoon', 'Evening'],\n",
    "    y= [df['Morning'].sum(), df['Afternoon'].sum(), df['Evening'].sum()],\n",
    "    marker=dict(\n",
    "        color='rgb(158,202,225)',\n",
    "        line=dict(\n",
    "            color='rgb(8,48,107)',\n",
    "            width=1.5,\n",
    "        )\n",
    "    ),\n",
    "    opacity=0.6\n",
    ")\n",
    "\n",
    "data = [trace0]\n",
    "layout = plotly.graph_objs.Layout(\n",
    "    title='Distribution of slots',\n",
    ")\n",
    "\n",
    "fig = plotly.graph_objs.Figure(data=data, layout=layout)\n",
    "plotly.plotly.iplot(fig, filename='Distribution_of_slots1')"
   ]
  },
  {
   "cell_type": "markdown",
   "metadata": {},
   "source": [
    "> **INSIGHT**<br>\n",
    "Roughly, 58.83% users chose their slots in Afternoon"
   ]
  },
  {
   "cell_type": "code",
   "execution_count": null,
   "metadata": {},
   "outputs": [],
   "source": [
    "freq_slots = df['Slot of Booking (Hour of the Day)'].value_counts().sort_index()\n",
    "\n",
    "trace0 = plotly.graph_objs.Bar(\n",
    "    x=freq_slots.index,\n",
    "    y= freq_slots.values,\n",
    "    marker=dict(\n",
    "        color='rgb(158,202,225)',\n",
    "        line=dict(\n",
    "            color='rgb(8,48,107)',\n",
    "            width=1.5,\n",
    "        )\n",
    "    ),\n",
    "    opacity=0.6\n",
    ")\n",
    "\n",
    "data = [trace0]\n",
    "layout = plotly.graph_objs.Layout(\n",
    "    title='Distribution of slots',\n",
    ")\n",
    "\n",
    "fig = plotly.graph_objs.Figure(data=data, layout=layout)\n",
    "plotly.plotly.iplot(fig, filename='Distribution-of-slots')"
   ]
  },
  {
   "cell_type": "markdown",
   "metadata": {},
   "source": [
    "> **INSIGHT**\n",
    "Roughly 38.83% of users chose the slot of 2PM"
   ]
  },
  {
   "cell_type": "markdown",
   "metadata": {},
   "source": [
    "## Closing Note\n",
    "> I would like to express my appreciation for considering me to be a part of the internship technical round.<br><br>\n",
    "I hope you like this small sampling of my work. <br>\n",
    "I **SINCERELY** want to work with a company as good as UrbanClap<br>\n",
    "I look forward to create many such documents and more with your team\n",
    "\n",
    "> **Please** get in touch just in case if you think I missed anyhting at the below contact details\n",
    " - Phone    -  ``+91-9871966592 (WhatsApp Active)``\n",
    " - EMail    -  ``revantgupta2@gmail.com``\n",
    " - LinkedIN -  ``https://www.linkedin.com/in/revantg/``\n",
    " - Twitter  -  ``https://twitter.com/revant_g``\n",
    "\n",
    "\n",
    "\n"
   ]
  }
 ],
 "metadata": {
  "kernelspec": {
   "display_name": "Python 3",
   "language": "python",
   "name": "python3"
  },
  "language_info": {
   "codemirror_mode": {
    "name": "ipython",
    "version": 3
   },
   "file_extension": ".py",
   "mimetype": "text/x-python",
   "name": "python",
   "nbconvert_exporter": "python",
   "pygments_lexer": "ipython3",
   "version": "3.7.3"
  }
 },
 "nbformat": 4,
 "nbformat_minor": 2
}
