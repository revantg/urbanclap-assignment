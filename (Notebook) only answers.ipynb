{
 "cells": [
  {
   "cell_type": "markdown",
   "metadata": {},
   "source": [
    "# UrbanClap Assignment\n",
    "#### This is the solution to the Assignment 1 for the Business Analytics intern position in UrbanClap, Gurgaon"
   ]
  },
  {
   "cell_type": "markdown",
   "metadata": {},
   "source": [
    "### The following queries have been solved in this assignmnent<br>\n",
    "\n",
    "1. **<pre>Plot new users acquired every month on a bar chart (New user in a month = a customer who has placed a request for the first time ever)</pre>**\n",
    "\n",
    "2. **<pre>30-Day repeat rate is defined as percentage of new users who have placed a 2nd order within 30 days of placing their first order.\n",
    "What is the 30-day repeat rate of users acquired in December 2017?</pre>**\n",
    "\n",
    "3. **<pre>What is the 90-day repeat rate of users acquired in Jan,Feb,March 2018?</pre>**\n",
    "\n",
    "4. **<pre>Use logistic regression to predict the 90-day repeat of users acquired in November 2018.\n",
    "</pre>**\n",
    "\n",
    "5. **<pre>Plot the distribution of users by frequency of their 90-day repeat (Number of times user repeated within first 90 days)</pre>**"
   ]
  },
  {
   "cell_type": "markdown",
   "metadata": {},
   "source": [
    "### Solution 1 : Users acquired every month on a bar chart"
   ]
  },
  {
   "cell_type": "code",
   "execution_count": 6,
   "metadata": {},
   "outputs": [
    {
     "data": {
      "text/html": [
       "<div>\n",
       "<style scoped>\n",
       "    .dataframe tbody tr th:only-of-type {\n",
       "        vertical-align: middle;\n",
       "    }\n",
       "\n",
       "    .dataframe tbody tr th {\n",
       "        vertical-align: top;\n",
       "    }\n",
       "\n",
       "    .dataframe thead th {\n",
       "        text-align: right;\n",
       "    }\n",
       "</style>\n",
       "<table border=\"1\" class=\"dataframe\">\n",
       "  <thead>\n",
       "    <tr style=\"text-align: right;\">\n",
       "      <th></th>\n",
       "      <th></th>\n",
       "      <th>New Users</th>\n",
       "    </tr>\n",
       "    <tr>\n",
       "      <th>Year Of Booking</th>\n",
       "      <th>Month Of Booking</th>\n",
       "      <th></th>\n",
       "    </tr>\n",
       "  </thead>\n",
       "  <tbody>\n",
       "    <tr>\n",
       "      <th>2017</th>\n",
       "      <th>12</th>\n",
       "      <td>2424</td>\n",
       "    </tr>\n",
       "    <tr>\n",
       "      <th rowspan=\"11\" valign=\"top\">2018</th>\n",
       "      <th>1</th>\n",
       "      <td>1892</td>\n",
       "    </tr>\n",
       "    <tr>\n",
       "      <th>2</th>\n",
       "      <td>1549</td>\n",
       "    </tr>\n",
       "    <tr>\n",
       "      <th>3</th>\n",
       "      <td>1490</td>\n",
       "    </tr>\n",
       "    <tr>\n",
       "      <th>4</th>\n",
       "      <td>1346</td>\n",
       "    </tr>\n",
       "    <tr>\n",
       "      <th>5</th>\n",
       "      <td>1264</td>\n",
       "    </tr>\n",
       "    <tr>\n",
       "      <th>6</th>\n",
       "      <td>1273</td>\n",
       "    </tr>\n",
       "    <tr>\n",
       "      <th>7</th>\n",
       "      <td>1208</td>\n",
       "    </tr>\n",
       "    <tr>\n",
       "      <th>8</th>\n",
       "      <td>1120</td>\n",
       "    </tr>\n",
       "    <tr>\n",
       "      <th>9</th>\n",
       "      <td>1020</td>\n",
       "    </tr>\n",
       "    <tr>\n",
       "      <th>10</th>\n",
       "      <td>1110</td>\n",
       "    </tr>\n",
       "    <tr>\n",
       "      <th>11</th>\n",
       "      <td>1015</td>\n",
       "    </tr>\n",
       "  </tbody>\n",
       "</table>\n",
       "</div>"
      ],
      "text/plain": [
       "                                  New Users\n",
       "Year Of Booking Month Of Booking           \n",
       "2017            12                     2424\n",
       "2018            1                      1892\n",
       "                2                      1549\n",
       "                3                      1490\n",
       "                4                      1346\n",
       "                5                      1264\n",
       "                6                      1273\n",
       "                7                      1208\n",
       "                8                      1120\n",
       "                9                      1020\n",
       "                10                     1110\n",
       "                11                     1015"
      ]
     },
     "execution_count": 6,
     "metadata": {},
     "output_type": "execute_result"
    }
   ],
   "source": []
  },
  {
   "cell_type": "markdown",
   "metadata": {},
   "source": [
    "**3. Plotting / Visualising the data for ``num_of_new_users`` (Number of new users) w.r.t. month and year**\n"
   ]
  },
  {
   "cell_type": "code",
   "execution_count": 7,
   "metadata": {},
   "outputs": [
    {
     "data": {
      "image/png": "[encoded data removed]",
      "text/plain": [
       "<Figure size 720x432 with 1 Axes>"
      ]
     },
     "metadata": {
      "needs_background": "light"
     },
     "output_type": "display_data"
    }
   ],
   "source": []
  },
  {
   "cell_type": "code",
   "execution_count": 8,
   "metadata": {
    "scrolled": false
   },
   "outputs": [
    {
     "data": {
      "text/html": [
       "<iframe id=\"igraph\" scrolling=\"no\" style=\"border:none;\" seamless=\"seamless\" src=\"https://plot.ly/~revantg/2.embed\" height=\"525px\" width=\"100%\"></iframe>"
      ],
      "text/plain": [
       "<chart_studio.tools.PlotlyDisplay object>"
      ]
     },
     "execution_count": 8,
     "metadata": {},
     "output_type": "execute_result"
    }
   ],
   "source": []
  },
  {
   "cell_type": "markdown",
   "metadata": {},
   "source": [
    "> **Insights**\n",
    "- Number of new users in January 2018 dropped the most ie 28.118 %\n",
    "- Number of New Users in May had dropped almost about to 52.14% of sales in Deceember 2017<br>\n",
    "**However**, the total users engaging on the service remained roughly the same as seen in the above graph\n"
   ]
  },
  {
   "cell_type": "markdown",
   "metadata": {},
   "source": [
    "### **Solution 2 : What is the 30-day repeat rate of users acquired in December 2017?**\n",
    "Solution :\n",
    "<pre> \n",
    "30 Day Repeat Rate (for less than 30 days)  : 16.625412541254125\n",
    "30 Day Repeat Rate (for less than equal to 30 days) : 16.831683168316832\n",
    "</pre>"
   ]
  },
  {
   "cell_type": "markdown",
   "metadata": {},
   "source": [
    "### **Solution 3 : What is the 90-day repeat rate of users acquired in Jan, Feb, March 2018?**\n",
    "Solution\n",
    "<pre>\n",
    "30 Day Repeat Rate (for less than 90 days)  : 20.54350030419793\n",
    "30 Day Repeat Rate (for less than equal to 90 days) : 20.74629892516731\n",
    "</pre>"
   ]
  },
  {
   "cell_type": "markdown",
   "metadata": {},
   "source": [
    "### **Solution 4 : Predict the 90-day repeat of users acquired in November 2018 using Logistic Regression**\n",
    "Solution\n",
    "<pre>\n",
    "Predicted 90 day rate :25.254237288135593\n",
    "</pre>"
   ]
  },
  {
   "cell_type": "markdown",
   "metadata": {},
   "source": [
    "### Solution 5 : Plot the distribution of users by frequency of their 90-day repeat"
   ]
  },
  {
   "cell_type": "markdown",
   "metadata": {},
   "source": [
    "**2. Plotting Using Seaborn**\n"
   ]
  },
  {
   "cell_type": "code",
   "execution_count": 128,
   "metadata": {},
   "outputs": [
    {
     "data": {
      "image/png": "[encoded data removed]",
      "text/plain": [
       "<Figure size 720x504 with 1 Axes>"
      ]
     },
     "metadata": {
      "needs_background": "light"
     },
     "output_type": "display_data"
    }
   ],
   "source": []
  },
  {
   "cell_type": "markdown",
   "metadata": {},
   "source": [
    "**3. Plotting Using Plotly for more interactivity**"
   ]
  },
  {
   "cell_type": "code",
   "execution_count": 131,
   "metadata": {
    "scrolled": false
   },
   "outputs": [
    {
     "data": {
      "text/html": [
       "<iframe id=\"igraph\" scrolling=\"no\" style=\"border:none;\" seamless=\"seamless\" src=\"https://plot.ly/~revantg/4.embed\" height=\"525px\" width=\"100%\"></iframe>"
      ],
      "text/plain": [
       "<chart_studio.tools.PlotlyDisplay object>"
      ]
     },
     "execution_count": 131,
     "metadata": {},
     "output_type": "execute_result"
    }
   ],
   "source": []
  },
  {
   "cell_type": "markdown",
   "metadata": {},
   "source": [
    "## Closing Note\n",
    "> I would like to express my appreciation for considering me to be a part of the internship technical round.<br><br>\n",
    "I hope you like this small sampling of my work. <br>\n",
    "I **SINCERELY** want to work with a company as good as UrbanClap<br>\n",
    "I look forward to create many such documents and more with your team\n",
    "\n",
    "> **Please** get in touch just in case if you think I missed anyhting at the below contact details\n",
    " - Phone    -  ``+91-9871966592 (WhatsApp Active)``\n",
    " - EMail    -  ``revantgupta2@gmail.com``\n",
    " - LinkedIN -  ``https://www.linkedin.com/in/revantg/``\n",
    " - Twitter  -  ``https://twitter.com/revant_g``\n",
    "\n",
    "\n",
    "\n"
   ]
  }
 ],
 "metadata": {
  "kernelspec": {
   "display_name": "Python 3",
   "language": "python",
   "name": "python3"
  },
  "language_info": {
   "codemirror_mode": {
    "name": "ipython",
    "version": 3
   },
   "file_extension": ".py",
   "mimetype": "text/x-python",
   "name": "python",
   "nbconvert_exporter": "python",
   "pygments_lexer": "ipython3",
   "version": "3.7.3"
  }
 },
 "nbformat": 4,
 "nbformat_minor": 2
}
